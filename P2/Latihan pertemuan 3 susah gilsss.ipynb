{
 "cells": [
  {
   "cell_type": "code",
   "execution_count": 17,
   "id": "f9294c51",
   "metadata": {},
   "outputs": [],
   "source": [
    "doc1_term=[\"pengembangan\",\"sistem\",\"informasi\",\"penjadwalan\"]\n",
    "doc2_term=[\"pengembangan\",\"model\",\"analisis\",\"sentimen\",\"berita\"]\n",
    "doc3_term=[\"analisis\",\"sistem\",\"input\",\"output\"]\n",
    "\n",
    "corpus_term=[doc1_term,doc2_term,doc3_term]"
   ]
  },
  {
   "cell_type": "code",
   "execution_count": 27,
   "id": "17b655a2",
   "metadata": {},
   "outputs": [],
   "source": [
    "def stemming(text):\n",
    "\tfrom Sastrawi.Stemmer.StemmerFactory import StemmerFactory\n",
    "\t# create stemmer\n",
    "\tfactory = StemmerFactory()\n",
    "\tstemmer = factory.create_stemmer()\n",
    "\t# stemming process\n",
    "\toutput   = stemmer.stem(text)\n",
    "\treturn output\n"
   ]
  },
  {
   "cell_type": "code",
   "execution_count": 28,
   "id": "e41e3cf9",
   "metadata": {},
   "outputs": [
    {
     "name": "stdout",
     "output_type": "stream",
     "text": [
      "{'kembang': [1, 2], 'sistem': [1, 3], 'informasi': [1], 'jadwal': [1], 'model': [2], 'analisis': [2, 3], 'sentimen': [2], 'berita': [2], 'input': [3], 'output': [3]}\n"
     ]
    }
   ],
   "source": [
    "inverted_index={}\n",
    "for i in range(len(corpus_term)):\n",
    "    for item in corpus_term[i]:\n",
    "        item = stemming(item)\n",
    "        if item not in inverted_index:\n",
    "            inverted_index[item]=[]\n",
    "        if (item in inverted_index) and ((i+1) not in inverted_index[item]):\n",
    "            inverted_index[item].append(i+1)\n",
    "print(inverted_index)\n",
    "\n",
    "#perhatiin indeksnya\n",
    "#tiap kata akan dikasih tau bakal ada di index mana aja"
   ]
  },
  {
   "cell_type": "code",
   "execution_count": null,
   "id": "8d267a79",
   "metadata": {},
   "outputs": [],
   "source": [
    "import math\n",
    "class BooleanModel():\n",
    "    @staticmethod\n",
    "    \n",
    "    def and_operation(left_operand,right_operand):\n",
    "        #perform 'merge'\n",
    "        result=[]#results list to be returned\n",
    "        l_index=0 #current index in left_operand \n",
    "        r_index=0 #current index in right_operand\n",
    "        l_skip = int (math.sqrt(len(left_operand)))\n",
    "        #skip pointer distance for l_index\n",
    "        r_skip = int(math.sqrt(len(right_operand)))\n",
    "        #skip pointer distance for r_index\n",
    "        \n",
    "        while(l_index<len(left_operand) and r_index < len(right_operand)):\n",
    "            l_item = left_operand[l_index]\n",
    "            r_item = right_operand[r_index]\n",
    "            \n",
    "            #case 1: if match\n",
    "            \n",
    "            if(l_item==r_item):\n",
    "                result.append(l_item)\n",
    "                l_index += 1\n",
    "                r_index += 1\n",
    "                \n",
    "            #case 2: if left item is more than right item\n",
    "            \n",
    "            elif (l_item>r_item):\n",
    "                #if r_index can be skipped (if new r_index is still within range and resulting item is<=left item)\n",
    "                if (r_index + r_skip < len(right_operand)) and right_operand[r_index + r_skip]<= l_item:\n",
    "                            r_index+=r_skip\n",
    "                        #else advance r_index by 1\n",
    "                        \n",
    "                        "
   ]
  }
 ],
 "metadata": {
  "kernelspec": {
   "display_name": "Python 3 (ipykernel)",
   "language": "python",
   "name": "python3"
  },
  "language_info": {
   "codemirror_mode": {
    "name": "ipython",
    "version": 3
   },
   "file_extension": ".py",
   "mimetype": "text/x-python",
   "name": "python",
   "nbconvert_exporter": "python",
   "pygments_lexer": "ipython3",
   "version": "3.9.12"
  }
 },
 "nbformat": 4,
 "nbformat_minor": 5
}
