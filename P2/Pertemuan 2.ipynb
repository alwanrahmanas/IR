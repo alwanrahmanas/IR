{
 "cells": [
  {
   "cell_type": "code",
   "execution_count": 8,
   "id": "b67f0d4d",
   "metadata": {},
   "outputs": [
    {
     "name": "stdout",
     "output_type": "stream",
     "text": [
      "['Wilayah', 'Kamu', 'Sudah', 'Bebas', 'COVID-19', '?']\n",
      "[1, 2, 'tiga', 'empat', 5]\n",
      "1\n",
      "2\n",
      "tiga\n",
      "empat\n",
      "5\n"
     ]
    }
   ],
   "source": [
    "list1=[\"Wilayah\",\"Kamu\",\"Sudah\",\"Bebas\",\"COVID-19\",\"?\"]\n",
    "print(list1)\n",
    "\n",
    "list2=[1,2,\"tiga\",\"empat\",5]\n",
    "print(list2)\n",
    "\n",
    "for list in list2:\n",
    "    print(list)"
   ]
  },
  {
   "cell_type": "code",
   "execution_count": 20,
   "id": "c944d7ad",
   "metadata": {},
   "outputs": [
    {
     "name": "stdout",
     "output_type": "stream",
     "text": [
      "{1: 'Wilayah', 2: 'Kamu', 3: 'Sudah', 4: 'Bebas', 5: 'COVID-19', 6: '?'}\n",
      "{'Januari': 1, 'februari': 2, 'march': 3, 'april': 4, 'mmei': 5}\n",
      "{'Januari': 1, 'februari': 2, 'march': 3, 'april': 4, 'mmei': 5}\n",
      "{'Januari': 1, 'februari': 2, 'march': 3, 'april': 4, 'mmei': 5}\n",
      "{'Januari': 1, 'februari': 2, 'march': 3, 'april': 4, 'mmei': 5}\n",
      "{'Januari': 1, 'februari': 2, 'march': 3, 'april': 4, 'mmei': 5}\n",
      "{'Januari': 1, 'februari': 2, 'march': 3, 'april': 4, 'mmei': 5}\n"
     ]
    }
   ],
   "source": [
    "dict1={1:\"Wilayah\",2:\"Kamu\",3:\"Sudah\",4:\"Bebas\",5:\"COVID-19\",6:\"?\"}\n",
    "print(dict1)\n",
    "\n",
    "dict2={\"Januari\":1,\"februari\":2,\"march\":3,\"april\":4,\"mmei\":5}\n",
    "print(dict2)\n",
    "\n",
    "for key in dict2:\n",
    "        print(dict2[key])"
   ]
  },
  {
   "cell_type": "code",
   "execution_count": 22,
   "id": "9b1b2cdc",
   "metadata": {},
   "outputs": [
    {
     "name": "stdout",
     "output_type": "stream",
     "text": [
      "{'pengembangan': 3, 'sistem': 2, 'informasi': 1, 'penjadwalan': 1, 'model': 1, 'analisis': 2, 'sentimen': 1, 'berita': 1, 'input': 1, 'output': 1}\n"
     ]
    }
   ],
   "source": [
    "doc1=\"pengembangan sistem informasi penjadwalan\"\n",
    "doc1_term=[\"pengembangan\",\"sistem\",\"informasi\",\"penjadwalan\"]\n",
    "doc2 = \"pengembangan model analisis sentimen berita\"\n",
    "doc2_term =[\"pengembangan\",\"model\",\"analisis\",\"sentimen\",\"berita\"]\n",
    "doc3=\"pengembangan analisis sistem input output\"\n",
    "doc3_term=[\"pengembangan\",\"analisis\",\"sistem\",\"input\",\"output\"]\n",
    "\n",
    "corpus=[doc1,doc2,doc3]\n",
    "corpus_term=[doc1_term,doc2_term,doc3_term]\n",
    "\n",
    "voc={}\n",
    "\n",
    "for d in corpus_term:\n",
    "    for term in d:\n",
    "        if term not in voc:\n",
    "            voc[term]=1\n",
    "        else:\n",
    "            voc[term]=voc[term]+1\n",
    "\n",
    "print(voc)\n"
   ]
  },
  {
   "cell_type": "code",
   "execution_count": 27,
   "id": "6e2fb822",
   "metadata": {},
   "outputs": [],
   "source": [
    "def tokenisasi (text):\n",
    "    tokens = text.split(\" \")\n",
    "    return tokens\n"
   ]
  },
  {
   "cell_type": "code",
   "execution_count": 29,
   "id": "84c58c68",
   "metadata": {},
   "outputs": [
    {
     "name": "stdout",
     "output_type": "stream",
     "text": [
      "['pengembangan', 'sistem', 'informasi', 'penjadwalan']\n",
      "['pengembangan', 'model', 'analisis', 'sentimen', 'berita']\n",
      "['pengembangan', 'analisis', 'sistem', 'input', 'output']\n"
     ]
    }
   ],
   "source": [
    "doc1=\"pengembangan sistem informasi penjadwalan\"\n",
    "doc2 = \"pengembangan model analisis sentimen berita\"\n",
    "doc3=\"pengembangan analisis sistem input output\"\n",
    "\n",
    "for d in corpus:\n",
    "    token_kata= tokenisasi(d)\n",
    "    print(token_kata)\n",
    "    "
   ]
  },
  {
   "cell_type": "code",
   "execution_count": 31,
   "id": "e904e140",
   "metadata": {},
   "outputs": [
    {
     "name": "stdout",
     "output_type": "stream",
     "text": [
      "Requirement already satisfied: spacy in c:\\programdata\\anaconda3\\lib\\site-packages (3.4.1)\n",
      "Requirement already satisfied: typer<0.5.0,>=0.3.0 in c:\\programdata\\anaconda3\\lib\\site-packages (from spacy) (0.4.2)\n",
      "Requirement already satisfied: packaging>=20.0 in c:\\programdata\\anaconda3\\lib\\site-packages (from spacy) (21.3)\n",
      "Requirement already satisfied: setuptools in c:\\programdata\\anaconda3\\lib\\site-packages (from spacy) (61.2.0)\n",
      "Requirement already satisfied: preshed<3.1.0,>=3.0.2 in c:\\programdata\\anaconda3\\lib\\site-packages (from spacy) (3.0.7)\n",
      "Requirement already satisfied: cymem<2.1.0,>=2.0.2 in c:\\programdata\\anaconda3\\lib\\site-packages (from spacy) (2.0.6)\n",
      "Requirement already satisfied: langcodes<4.0.0,>=3.2.0 in c:\\programdata\\anaconda3\\lib\\site-packages (from spacy) (3.3.0)\n",
      "Requirement already satisfied: pathy>=0.3.5 in c:\\programdata\\anaconda3\\lib\\site-packages (from spacy) (0.6.2)\n",
      "Requirement already satisfied: jinja2 in c:\\programdata\\anaconda3\\lib\\site-packages (from spacy) (2.11.3)\n",
      "Requirement already satisfied: srsly<3.0.0,>=2.4.3 in c:\\programdata\\anaconda3\\lib\\site-packages (from spacy) (2.4.4)\n",
      "Requirement already satisfied: catalogue<2.1.0,>=2.0.6 in c:\\programdata\\anaconda3\\lib\\site-packages (from spacy) (2.0.8)\n",
      "Requirement already satisfied: thinc<8.2.0,>=8.1.0 in c:\\programdata\\anaconda3\\lib\\site-packages (from spacy) (8.1.0)\n",
      "Requirement already satisfied: murmurhash<1.1.0,>=0.28.0 in c:\\programdata\\anaconda3\\lib\\site-packages (from spacy) (1.0.8)\n",
      "Requirement already satisfied: tqdm<5.0.0,>=4.38.0 in c:\\programdata\\anaconda3\\lib\\site-packages (from spacy) (4.64.0)\n",
      "Requirement already satisfied: requests<3.0.0,>=2.13.0 in c:\\programdata\\anaconda3\\lib\\site-packages (from spacy) (2.27.1)\n",
      "Requirement already satisfied: wasabi<1.1.0,>=0.9.1 in c:\\programdata\\anaconda3\\lib\\site-packages (from spacy) (0.10.1)\n",
      "Requirement already satisfied: pydantic!=1.8,!=1.8.1,<1.10.0,>=1.7.4 in c:\\programdata\\anaconda3\\lib\\site-packages (from spacy) (1.9.2)\n",
      "Requirement already satisfied: numpy>=1.15.0 in c:\\programdata\\anaconda3\\lib\\site-packages (from spacy) (1.21.5)\n",
      "Requirement already satisfied: spacy-loggers<2.0.0,>=1.0.0 in c:\\programdata\\anaconda3\\lib\\site-packages (from spacy) (1.0.3)\n",
      "Requirement already satisfied: spacy-legacy<3.1.0,>=3.0.9 in c:\\programdata\\anaconda3\\lib\\site-packages (from spacy) (3.0.10)\n",
      "Requirement already satisfied: pyparsing!=3.0.5,>=2.0.2 in c:\\programdata\\anaconda3\\lib\\site-packages (from packaging>=20.0->spacy) (3.0.4)\n",
      "Requirement already satisfied: smart-open<6.0.0,>=5.2.1 in c:\\programdata\\anaconda3\\lib\\site-packages (from pathy>=0.3.5->spacy) (5.2.1)\n",
      "Requirement already satisfied: typing-extensions>=3.7.4.3 in c:\\programdata\\anaconda3\\lib\\site-packages (from pydantic!=1.8,!=1.8.1,<1.10.0,>=1.7.4->spacy) (4.1.1)\n",
      "Requirement already satisfied: idna<4,>=2.5 in c:\\programdata\\anaconda3\\lib\\site-packages (from requests<3.0.0,>=2.13.0->spacy) (3.3)\n",
      "Requirement already satisfied: certifi>=2017.4.17 in c:\\programdata\\anaconda3\\lib\\site-packages (from requests<3.0.0,>=2.13.0->spacy) (2021.10.8)\n",
      "Requirement already satisfied: urllib3<1.27,>=1.21.1 in c:\\programdata\\anaconda3\\lib\\site-packages (from requests<3.0.0,>=2.13.0->spacy) (1.26.9)\n",
      "Requirement already satisfied: charset-normalizer~=2.0.0 in c:\\programdata\\anaconda3\\lib\\site-packages (from requests<3.0.0,>=2.13.0->spacy) (2.0.4)\n",
      "Requirement already satisfied: blis<0.8.0,>=0.7.8 in c:\\programdata\\anaconda3\\lib\\site-packages (from thinc<8.2.0,>=8.1.0->spacy) (0.7.8)\n",
      "Requirement already satisfied: colorama in c:\\programdata\\anaconda3\\lib\\site-packages (from tqdm<5.0.0,>=4.38.0->spacy) (0.4.4)\n",
      "Requirement already satisfied: click<9.0.0,>=7.1.1 in c:\\programdata\\anaconda3\\lib\\site-packages (from typer<0.5.0,>=0.3.0->spacy) (8.0.4)\n",
      "Requirement already satisfied: MarkupSafe>=0.23 in c:\\programdata\\anaconda3\\lib\\site-packages (from jinja2->spacy) (2.0.1)\n",
      "Note: you may need to restart the kernel to use updated packages.\n"
     ]
    }
   ],
   "source": [
    "pip install spacy"
   ]
  },
  {
   "cell_type": "code",
   "execution_count": 38,
   "id": "dd091f40",
   "metadata": {},
   "outputs": [
    {
     "name": "stdout",
     "output_type": "stream",
     "text": [
      "['pengembangan', 'sistem', 'informasi', 'penjadwalan']\n",
      "['pengembangan', 'model', 'analisis', 'sentimen', 'berita']\n",
      "['pengembangan', 'analisis', 'sistem', 'input', 'output']\n"
     ]
    }
   ],
   "source": [
    "import spacy\n",
    "\n",
    "from spacy.lang.id import Indonesian\n",
    "nlp=Indonesian() #use directly\n",
    "nlp=spacy.blank('id')\n",
    "\n",
    "for d in corpus:\n",
    "    spacy_id=nlp(d)\n",
    "    token_kata=[token.text for token in spacy_id]\n",
    "    print(token_kata)"
   ]
  },
  {
   "cell_type": "code",
   "execution_count": 51,
   "id": "e58d619d",
   "metadata": {},
   "outputs": [
    {
     "name": "stdout",
     "output_type": "stream",
     "text": [
      "Wilayah kamu sudah 'Bebas' COVID-19? cek 34 Kab/Kota Zona Hijau Terbaru\n",
      "WILAYAH KAMU SUDAH 'BEBAS' COVID-19? CEK 34 KAB/KOTA ZONA HIJAU TERBARU\n",
      "wilayah kamu sudah 'bebas' covid-19? cek 34 kab/kota zona hijau terbaru\n",
      "Wilayah kamu sudah 'bebas' covid-19? cek 34 kab/kota zona hijau terbaru\n"
     ]
    }
   ],
   "source": [
    "text=\"Wilayah kamu sudah 'Bebas' COVID-19? cek 34 Kab/Kota Zona Hijau Terbaru\"\n",
    "text_capital = text.upper()\n",
    "text_lower = text.lower()\n",
    "tc=text.capitalize()\n",
    "print(text)\n",
    "print(text_capital)\n",
    "print(text_lower)\n",
    "print(tc)"
   ]
  },
  {
   "cell_type": "code",
   "execution_count": 55,
   "id": "e089394b",
   "metadata": {},
   "outputs": [
    {
     "name": "stdout",
     "output_type": "stream",
     "text": [
      "['Wilayah', 'kamu', 'bebas', 'covid-19', '?', 'cek', '34', 'kab', '/', 'kota', 'zona', 'hijau', 'terbaru']\n"
     ]
    }
   ],
   "source": [
    "#stopwords\n",
    "stopwords=[\"yang\",\"dari\",\"sudah\",\"dan\"]\n",
    "tokens=[\"Wilayah\",\"kamu\",\"sudah\",\"bebas\",\"covid-19\",\"?\",\"cek\",\"34\",\"kab\",\"/\",\"kota\",\"zona\",\"hijau\",\"terbaru\"]\n",
    "tokens_nostopword=[w for w in tokens if not w in stopwords]\n",
    "print(tokens_nostopword)\n",
    "\n",
    "\n"
   ]
  },
  {
   "cell_type": "code",
   "execution_count": 58,
   "id": "7a53584d",
   "metadata": {},
   "outputs": [
    {
     "name": "stdout",
     "output_type": "stream",
     "text": [
      "['Wilayah', 'bebas', 'covid-19', '?', 'cek', '34', 'kab', '/', 'kota', 'zona', 'hijau', 'terbaru']\n"
     ]
    }
   ],
   "source": [
    "#stopwords pake library\n",
    "\n",
    "sw=nlp.Defaults.stop_words\n",
    "tokens_nostopword=[w for w in tokens if not w in sw]\n",
    "print(tokens_nostopword)"
   ]
  },
  {
   "cell_type": "code",
   "execution_count": 63,
   "id": "d5525969",
   "metadata": {},
   "outputs": [
    {
     "name": "stdout",
     "output_type": "stream",
     "text": [
      "['saya', 'sedang', 'di', 'jalan', 'nih']\n"
     ]
    }
   ],
   "source": [
    "#normalisasi\n",
    "\n",
    "normList={\"gue\":\"saya\",\"gua\":\"saya\",\"aku\":\"saya\",\"aq\":\"saya\",\"sy\":\"saya\",\"lagi\":\"sedang\"}\n",
    "text=\"aq lagi di jalan nih\"\n",
    "textNorm=[]\n",
    "for t in text.split(\" \"):\n",
    "    textNorm.append(normList[t] if t in normList else t)\n",
    "print(textNorm)"
   ]
  },
  {
   "cell_type": "code",
   "execution_count": 75,
   "id": "fa83cbf2",
   "metadata": {
    "scrolled": true
   },
   "outputs": [
    {
     "name": "stdout",
     "output_type": "stream",
     "text": [
      "Collecting Sastrawi\n",
      "  Downloading Sastrawi-1.0.1-py2.py3-none-any.whl (209 kB)\n",
      "Installing collected packages: Sastrawi\n",
      "Successfully installed Sastrawi-1.0.1\n",
      "Note: you may need to restart the kernel to use updated packages.\n"
     ]
    }
   ],
   "source": [
    "pip install Sastrawi"
   ]
  },
  {
   "cell_type": "code",
   "execution_count": 1,
   "id": "daae5cb6",
   "metadata": {},
   "outputs": [
    {
     "name": "stdout",
     "output_type": "stream",
     "text": [
      "wilayah kamu sudah bebas covid-19 cek 34 kab kota zona hijau baru\n"
     ]
    }
   ],
   "source": [
    "from Sastrawi.Stemmer.StemmerFactory import StemmerFactory\n",
    "\n",
    "# create stemmer\n",
    "factory = StemmerFactory()\n",
    "stemmer = factory.create_stemmer()\n",
    "\n",
    "# stemming process\n",
    "text=\"Wilayah kamu sudah 'Bebas' COVID-19? cek 34 Kab/Kota Zona Hijau Terbaru\"\n",
    "output=stemmer.stem(text)\n",
    "print(output)"
   ]
  }
 ],
 "metadata": {
  "kernelspec": {
   "display_name": "Python 3 (ipykernel)",
   "language": "python",
   "name": "python3"
  },
  "language_info": {
   "codemirror_mode": {
    "name": "ipython",
    "version": 3
   },
   "file_extension": ".py",
   "mimetype": "text/x-python",
   "name": "python",
   "nbconvert_exporter": "python",
   "pygments_lexer": "ipython3",
   "version": "3.9.12"
  }
 },
 "nbformat": 4,
 "nbformat_minor": 5
}
