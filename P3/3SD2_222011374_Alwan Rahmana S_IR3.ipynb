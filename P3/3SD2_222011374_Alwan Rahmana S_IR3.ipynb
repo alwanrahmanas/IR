{
 "cells": [
  {
   "cell_type": "markdown",
   "id": "ef8b4b21",
   "metadata": {},
   "source": [
    "Import module dan assign nilai path yang merupakan lokasi file berita"
   ]
  },
  {
   "cell_type": "code",
   "execution_count": 1,
   "id": "6002ce35",
   "metadata": {},
   "outputs": [],
   "source": [
    "# Import Module\n",
    "import os\n",
    "\n",
    "# Folder Path\n",
    "path = r\"C:\\Users\\HP\\OneDrive - Universitas Diponegoro\\Documents\\Kuliah STIS V\\Information Retrieval\\Praktik\\berita\""
   ]
  },
  {
   "cell_type": "markdown",
   "id": "07bc8597",
   "metadata": {},
   "source": [
    "masukin folder berita ke var list_file"
   ]
  },
  {
   "cell_type": "code",
   "execution_count": 8,
   "id": "5988236a",
   "metadata": {},
   "outputs": [],
   "source": [
    "list_file = []\n",
    "for file in os.listdir(path):\n",
    "# Check apakah file ada dan sesuai\n",
    "    if file.endswith(\".txt\"):\n",
    "        file_path = f\"{path}\\{file}\"\n",
    "\n",
    "        # call read text file function\n",
    "        #list_file.append(open(file_path, \"r\").read())\n",
    "        files = open(file_path, \"r\").read()\n",
    "        list_file.append(files)"
   ]
  },
  {
   "cell_type": "code",
   "execution_count": 10,
   "id": "365b48cd",
   "metadata": {},
   "outputs": [
    {
     "name": "stdout",
     "output_type": "stream",
     "text": [
      "[\"Wilayah Kamu Sudah 'Bebas' COVID-19? Cek 34 Kab/Kota Zona Hijau Terbaru\\n\\nJakarta - Pemerintah rencananya bakal menerapkan Pemberlakuan Pembatasan Kegiatan Masyarakat (PPKM) level 3 terhitung 24 Desember 2021 hingga 2 Januari 2021. Namun, Kementerian Kesehatan RI memastikan kebijakan PPKM level 3 ini masih dalam tahap kajian.\\nMenurut Direktur Pencegahan dan Pengendalian Penyakit Menular Langsung (P2PML) Kemenkes RI dr Siti Nadia Tarmizi, PPKM level 3 bakal diterapkan jika kasus COVID-19 naik signifikan. Hal ini umumnya dipicu dengan peningkatan mobilitas dan pelonggaran protokol kesehatan.\\n\\nhttps://health.detik.com/berita-detikhealth/d-5816690/wilayah-kamu-sudah-bebas-covid-19-cek-34-kabkota-zona-hijau-terbaru\", 'Vaksin COVID-19 Bakal Rutin Setiap Tahun? Tergantung, Ini Penjelasannya\\n\\nJakarta - Pemberian booster atau dosis ketiga vaksin COVID-19 di Indonesia direncanakan bakal berlangsung Januari 2022. Lantas adakah kemungkinan vaksinasi COVID-19 bakal harus dilakukan setiap tahun seperti vaksinasi influenza?\\nKetua Satgas COVID-19 Ikatan Dokter Indonesia (IDI) Prof Zubairi Djoerban menjelaskan hingga kini belum ada kepastian terkait hal tersebut. Menurutnya masih ada kemungkinan vaksin COVID-19 harus diberikan setiap tahun, ada juga kemungkinan cukup booster diberikan sekali kemudian vaksinasi COVID-19 tidak diperlukan lagi.\\n\\nhttps://health.detik.com/berita-detikhealth/d-5816582/vaksin-covid-19-bakal-rutin-setiap-tahun-tergantung-ini-penjelasannya', 'RI Mulai Suntikkan Booster di 2022, Masihkah Ampuh Lawan Varian Delta Cs?\\n\\nJakarta - Pakar mengakui vaksin-vaksin yang sudah digunakan untuk dosis 1-2 memang mengalami penurunan efektivitas terhadap varian baru Corona seperti varian Delta. Mengingat booster atau dosis ketiga vaksin COVID-19 di Indonesia disebut bakal dimulai awal 2022, apakah jenis vaksin yang digunakan bakal mengikuti strain virus terbaru?\\nMenjawab pertanyaan tersebut, Ketua Satgas COVID-19 Ikatan Dokter Indonesia (IDI) Prof Zubairi Djoerban kembali menyinggung riset yang sudah berlangsung terkait efektivitas vaksin COVID-19 dosis 1 dan 2. Ia menyebut berdasarkan riset sejauh ini, efektivitas vaksin COVID-19 Pfizer dan Moderna terbukti menurun dalam melawan varian Delta.\\n\\nhttps://health.detik.com/berita-detikhealth/d-5816534/ri-mulai-suntikkan-booster-di-2022-masihkah-ampuh-lawan-varian-delta-cs', 'Alert! Kasus Varian Delta COVID-19 di DKI Meningkat\\n\\nJakarta - Data terbaru dari Balitbangkes Kemenkes RI per 13 November, menunjukkan adanya penambahan varian Delta. Penambahan tersebut terjadi di Jawa Barat ada 165 kasus, DKI Jakarta 90 kasus, dan Sulawesi Utara 86 kasus.\\nDalam satu bulan terakhir, Balitbangkes menyebutkan DKI Jakarta mengalami peningkatan kasus varian Delta yang signifikan. Sementara, pada varian baru seperti varian Alpha, varian Delta, hingga Beta terbanyak di Indonesia berasal dari DKI Jakarta, dengan total 1.327 kasus .\\n\\nhttps://health.detik.com/berita-detikhealth/d-5812940/alert-kasus-varian-delta-covid-19-di-dki-meningkat', 'Corona di AS Mendadak Naik Lagi Usai Serangan Delta Sempat Mereda\\n\\nJakarta - Kasus COVID-19 kembali naik di sejumlah wilayah Amerika Serikat (AS). Padahal diketahui, COVID-19 sempat tercatat stabil pasca serangan varian Delta musim panas ini. Ada apa?\\nHal tersebut disampaikan oleh kepala penasihat medis Gedung Putih Dr. Anthony Fauci, Senin (15/11/2021). Diketahui, kasus nasional turun 57 persen minggu lalu dari puncak gelombang varian Delta pada musim panas. Namun jumlah pasien COVID-19 di area Barat Tengah dan Timur laut kini naik mendadak.\\n\\nhttps://health.detik.com/berita-detikhealth/d-5813949/corona-di-as-mendadak-naik-lagi-usai-serangan-delta-sempat-mereda']\n"
     ]
    }
   ],
   "source": [
    "corp = list_file\n",
    "print(corp)"
   ]
  },
  {
   "cell_type": "code",
   "execution_count": 13,
   "id": "6ac184ec",
   "metadata": {},
   "outputs": [
    {
     "name": "stdout",
     "output_type": "stream",
     "text": [
      "wilayah kamu sudah bebas covid-19 cek 34 kab kota zona hijau baru jakarta - perintah rencana bakal terap laku batas giat masyarakat ppkm level 3 hitung 24 desember 2021 hingga 2 januari 2021 namun menteri sehat ri pasti bijak ppkm level 3 ini masih dalam tahap kaji turut direktur cegah dan kendali sakit tular langsung p2pml kemenkes ri dr siti nadia tarmizi ppkm level 3 bakal terap jika kasus covid-19 naik signifikan hal ini umum picu dengan tingkat mobilitas dan longgar protokol sehat https health detik com berita-detikhealth d-5816690 wilayah-kamu-sudah-bebas-covid-19-cek-34-kabkota-zona-hijau-terbaru\n",
      "vaksin covid-19 bakal rutin tiap tahun gantung ini jelas jakarta - beri booster atau dosis tiga vaksin covid-19 di indonesia rencana bakal langsung januari 2022 lantas ada mungkin vaksinasi covid-19 bakal harus laku tiap tahun seperti vaksinasi influenza ketua satgas covid-19 ikat dokter indonesia idi prof zubairi djoerban jelas hingga kini belum ada pasti kait hal sebut turut masih ada mungkin vaksin covid-19 harus beri tiap tahun ada juga mungkin cukup booster beri sekali kemudian vaksinasi covid-19 tidak perlu lagi https health detik com berita-detikhealth d-5816582 vaksin-covid-19-bakal-rutin-setiap-tahun-tergantung-ini-penjelasannya\n",
      "ri mulai suntik booster di 2022 masih ampuh lawan varian delta cs jakarta - pakar aku vaksin yang sudah guna untuk dosis 1-2 memang alami turun efektivitas hadap varian baru corona seperti varian delta ingat booster atau dosis tiga vaksin covid-19 di indonesia sebut bakal mulai awal 2022 apakah jenis vaksin yang guna bakal ikut strain virus baru jawab tanya sebut ketua satgas covid-19 ikat dokter indonesia idi prof zubairi djoerban kembali singgung riset yang sudah langsung kait efektivitas vaksin covid-19 dosis 1 dan 2 ia sebut dasar riset jauh ini efektivitas vaksin covid-19 pfizer dan moderna bukti turun dalam lawan varian delta https health detik com berita-detikhealth d-5816534 ri-mulai-suntikkan-booster-di-2022-masihkah-ampuh-lawan-varian-delta-cs\n",
      "alert kasus varian delta covid-19 di dki tingkat jakarta - data baru dari balitbangkes kemenkes ri per 13 november tunjuk ada tambah varian delta tambah sebut jadi di jawa barat ada 165 kasus dki jakarta 90 kasus dan sulawesi utara 86 kasus dalam satu bulan akhir balitbangkes sebut dki jakarta alami tingkat kasus varian delta yang signifikan sementara pada varian baru seperti varian alpha varian delta hingga beta banyak di indonesia asal dari dki jakarta dengan total 1 327 kasus https health detik com berita-detikhealth d-5812940 alert-kasus-varian-delta-covid-19-di-dki-meningkat\n",
      "corona di as dadak naik lagi usai serang delta sempat reda jakarta - kasus covid-19 kembali naik di jumlah wilayah amerika serikat as padahal tahu covid-19 sempat catat stabil pasca serang varian delta musim panas ini ada apa hal sebut sampai oleh kepala nasihat medis gedung putih dr anthony fauci senin 15 11 2021 tahu kasus nasional turun 57 persen minggu lalu dari puncak gelombang varian delta pada musim panas namun jumlah pasien covid-19 di area barat tengah dan timur laut kini naik dadak https health detik com berita-detikhealth d-5813949 corona-di-as-mendadak-naik-lagi-usai-serangan-delta-sempat-mereda\n"
     ]
    }
   ],
   "source": [
    "#stop word nyari di github\n",
    "\n",
    "from nltk.tokenize import word_tokenize\n",
    "\n",
    "\n",
    "f = open(\"tala.txt\", \"r\") \n",
    "stopword_list = []\n",
    "for line in f:\n",
    "    stripped_line = line.strip()\n",
    "    line_list = stripped_line.split()\n",
    "    stopword_list.append(line_list[0])\n",
    "f.close()\n",
    "\n",
    "#len(stopword_list) \n",
    "#print(stopword_list)\n",
    "\n",
    "\n",
    "    #stemming process\n",
    "def stemming(text): \n",
    "    from Sastrawi.Stemmer.StemmerFactory import StemmerFactory\n",
    "\n",
    "    #create stemmer\n",
    "    factory = StemmerFactory()\n",
    "    stemmer = factory.create_stemmer()\n",
    "\n",
    "    output=stemmer.stem(text)\n",
    "    #s=stopworded(output)\n",
    "    return output\n",
    "\n",
    "for i in range(len(corp)):\n",
    "    print(stemming(corp[i]))"
   ]
  },
  {
   "cell_type": "markdown",
   "id": "727fba8d",
   "metadata": {},
   "source": [
    "adakan stop words dari spacy"
   ]
  },
  {
   "cell_type": "code",
   "execution_count": 19,
   "id": "6c90e1b4",
   "metadata": {},
   "outputs": [
    {
     "name": "stdout",
     "output_type": "stream",
     "text": [
      "['ada', 'adalah', 'adanya', 'adapun', 'agak', 'agaknya', 'agar', 'akan', 'akankah', 'akhir', 'akhiri', 'akhirnya', 'aku', 'akulah', 'amat', 'amatlah', 'anda', 'andalah', 'antar', 'antara', 'antaranya', 'apa', 'apaan', 'apabila', 'apakah', 'apalagi', 'apatah', 'artinya', 'asal', 'asalkan', 'atas', 'atau', 'ataukah', 'ataupun', 'awal', 'awalnya', 'bagai', 'bagaikan', 'bagaimana', 'bagaimanakah', 'bagaimanapun', 'bagi', 'bagian', 'bahkan', 'bahwa', 'bahwasanya', 'baik', 'bakal', 'bakalan', 'balik', 'banyak', 'bapak', 'baru', 'bawah', 'beberapa', 'begini', 'beginian', 'beginikah', 'beginilah', 'begitu', 'begitukah', 'begitulah', 'begitupun', 'bekerja', 'belakang', 'belakangan', 'belum', 'belumlah', 'benar', 'benarkah', 'benarlah', 'berada', 'berakhir', 'berakhirlah', 'berakhirnya', 'berapa', 'berapakah', 'berapalah', 'berapapun', 'berarti', 'berawal', 'berbagai', 'berdatangan', 'beri', 'berikan', 'berikut', 'berikutnya', 'berjumlah', 'berkali-kali', 'berkata', 'berkehendak', 'berkeinginan', 'berkenaan', 'berlainan', 'berlalu', 'berlangsung', 'berlebihan', 'bermacam', 'bermacam-macam', 'bermaksud', 'bermula', 'bersama', 'bersama-sama', 'bersiap', 'bersiap-siap', 'bertanya', 'bertanya-tanya', 'berturut', 'berturut-turut', 'bertutur', 'berujar', 'berupa', 'besar', 'betul', 'betulkah', 'biasa', 'biasanya', 'bila', 'bilakah', 'bisa', 'bisakah', 'boleh', 'bolehkah', 'bolehlah', 'buat', 'bukan', 'bukankah', 'bukanlah', 'bukannya', 'bulan', 'bung', 'cara', 'caranya', 'cukup', 'cukupkah', 'cukuplah', 'cuma', 'dahulu', 'dalam', 'dan', 'dapat', 'dari', 'daripada', 'datang', 'dekat', 'demi', 'demikian', 'demikianlah', 'dengan', 'depan', 'di', 'dia', 'diakhiri', 'diakhirinya', 'dialah', 'diantara', 'diantaranya', 'diberi', 'diberikan', 'diberikannya', 'dibuat', 'dibuatnya', 'didapat', 'didatangkan', 'digunakan', 'diibaratkan', 'diibaratkannya', 'diingat', 'diingatkan', 'diinginkan', 'dijawab', 'dijelaskan', 'dijelaskannya', 'dikarenakan', 'dikatakan', 'dikatakannya', 'dikerjakan', 'diketahui', 'diketahuinya', 'dikira', 'dilakukan', 'dilalui', 'dilihat', 'dimaksud', 'dimaksudkan', 'dimaksudkannya', 'dimaksudnya', 'diminta', 'dimintai', 'dimisalkan', 'dimulai', 'dimulailah', 'dimulainya', 'dimungkinkan', 'dini', 'dipastikan', 'diperbuat', 'diperbuatnya', 'dipergunakan', 'diperkirakan', 'diperlihatkan', 'diperlukan', 'diperlukannya', 'dipersoalkan', 'dipertanyakan', 'dipunyai', 'diri', 'dirinya', 'disampaikan', 'disebut', 'disebutkan', 'disebutkannya', 'disini', 'disinilah', 'ditambahkan', 'ditandaskan', 'ditanya', 'ditanyai', 'ditanyakan', 'ditegaskan', 'ditujukan', 'ditunjuk', 'ditunjuki', 'ditunjukkan', 'ditunjukkannya', 'ditunjuknya', 'dituturkan', 'dituturkannya', 'diucapkan', 'diucapkannya', 'diungkapkan', 'dong', 'dua', 'dulu', 'empat', 'enggak', 'enggaknya', 'entah', 'entahlah', 'guna', 'gunakan', 'hal', 'hampir', 'hanya', 'hanyalah', 'hari', 'harus', 'haruslah', 'harusnya', 'hendak', 'hendaklah', 'hendaknya', 'hingga', 'ia', 'ialah', 'ibarat', 'ibaratkan', 'ibaratnya', 'ibu', 'ikut', 'ingat', 'ingat-ingat', 'ingin', 'inginkah', 'inginkan', 'ini', 'inikah', 'inilah', 'itu', 'itukah', 'itulah', 'jadi', 'jadilah', 'jadinya', 'jangan', 'jangankan', 'janganlah', 'jauh', 'jawab', 'jawaban', 'jawabnya', 'jelas', 'jelaskan', 'jelaslah', 'jelasnya', 'jika', 'jikalau', 'juga', 'jumlah', 'jumlahnya', 'justru', 'kala', 'kalau', 'kalaulah', 'kalaupun', 'kalian', 'kami', 'kamilah', 'kamu', 'kamulah', 'kan', 'kapan', 'kapankah', 'kapanpun', 'karena', 'karenanya', 'kasus', 'kata', 'katakan', 'katakanlah', 'katanya', 'ke', 'keadaan', 'kebetulan', 'kecil', 'kedua', 'keduanya', 'keinginan', 'kelamaan', 'kelihatan', 'kelihatannya', 'kelima', 'keluar', 'kembali', 'kemudian', 'kemungkinan', 'kemungkinannya', 'kenapa', 'kepada', 'kepadanya', 'kesampaian', 'keseluruhan', 'keseluruhannya', 'keterlaluan', 'ketika', 'khususnya', 'kini', 'kinilah', 'kira', 'kira-kira', 'kiranya', 'kita', 'kitalah', 'kok', 'kurang', 'lagi', 'lagian', 'lah', 'lain', 'lainnya', 'lalu', 'lama', 'lamanya', 'lanjut', 'lanjutnya', 'lebih', 'lewat', 'lima', 'luar', 'macam', 'maka', 'makanya', 'makin', 'malah', 'malahan', 'mampu', 'mampukah', 'mana', 'manakala', 'manalagi', 'masa', 'masalah', 'masalahnya', 'masih', 'masihkah', 'masing', 'masing-masing', 'mau', 'maupun', 'melainkan', 'melakukan', 'melalui', 'melihat', 'melihatnya', 'memang', 'memastikan', 'memberi', 'memberikan', 'membuat', 'memerlukan', 'memihak', 'meminta', 'memintakan', 'memisalkan', 'memperbuat', 'mempergunakan', 'memperkirakan', 'memperlihatkan', 'mempersiapkan', 'mempersoalkan', 'mempertanyakan', 'mempunyai', 'memulai', 'memungkinkan', 'menaiki', 'menambahkan', 'menandaskan', 'menanti', 'menanti-nanti', 'menantikan', 'menanya', 'menanyai', 'menanyakan', 'mendapat', 'mendapatkan', 'mendatang', 'mendatangi', 'mendatangkan', 'menegaskan', 'mengakhiri', 'mengapa', 'mengatakan', 'mengatakannya', 'mengenai', 'mengerjakan', 'mengetahui', 'menggunakan', 'menghendaki', 'mengibaratkan', 'mengibaratkannya', 'mengingat', 'mengingatkan', 'menginginkan', 'mengira', 'mengucapkan', 'mengucapkannya', 'mengungkapkan', 'menjadi', 'menjawab', 'menjelaskan', 'menuju', 'menunjuk', 'menunjuki', 'menunjukkan', 'menunjuknya', 'menurut', 'menuturkan', 'menyampaikan', 'menyangkut', 'menyatakan', 'menyebutkan', 'menyeluruh', 'menyiapkan', 'merasa', 'mereka', 'merekalah', 'merupakan', 'meski', 'meskipun', 'meyakini', 'meyakinkan', 'minta', 'mirip', 'misal', 'misalkan', 'misalnya', 'mula', 'mulai', 'mulailah', 'mulanya', 'mungkin', 'mungkinkah', 'nah', 'naik', 'namun', 'nanti', 'nantinya', 'nyaris', 'nyatanya', 'oleh', 'olehnya', 'pada', 'padahal', 'padanya', 'pak', 'paling', 'panjang', 'pantas', 'para', 'pasti', 'pastilah', 'penting', 'pentingnya', 'per', 'percuma', 'perlu', 'perlukah', 'perlunya', 'pernah', 'persoalan', 'pertama', 'pertama-tama', 'pertanyaan', 'pertanyakan', 'pihak', 'pihaknya', 'pukul', 'pula', 'pun', 'punya', 'rasa', 'rasanya', 'rata', 'rupanya', 'saat', 'saatnya', 'saja', 'sajalah', 'saling', 'sama', 'sama-sama', 'sambil', 'sampai', 'sampai-sampai', 'sampaikan', 'sana', 'sangat', 'sangatlah', 'satu', 'saya', 'sayalah', 'se', 'sebab', 'sebabnya', 'sebagai', 'sebagaimana', 'sebagainya', 'sebagian', 'sebaik', 'sebaik-baiknya', 'sebaiknya', 'sebaliknya', 'sebanyak', 'sebegini', 'sebegitu', 'sebelum', 'sebelumnya', 'sebenarnya', 'seberapa', 'sebesar', 'sebetulnya', 'sebisanya', 'sebuah', 'sebut', 'sebutlah', 'sebutnya', 'secara', 'secukupnya', 'sedang', 'sedangkan', 'sedemikian', 'sedikit', 'sedikitnya', 'seenaknya', 'segala', 'segalanya', 'segera', 'seharusnya', 'sehingga', 'seingat', 'sejak', 'sejauh', 'sejenak', 'sejumlah', 'sekadar', 'sekadarnya', 'sekali', 'sekali-kali', 'sekalian', 'sekaligus', 'sekalipun', 'sekarang', 'sekarang', 'sekecil', 'seketika', 'sekiranya', 'sekitar', 'sekitarnya', 'sekurang-kurangnya', 'sekurangnya', 'sela', 'selain', 'selaku', 'selalu', 'selama', 'selama-lamanya', 'selamanya', 'selanjutnya', 'seluruh', 'seluruhnya', 'semacam', 'semakin', 'semampu', 'semampunya', 'semasa', 'semasih', 'semata', 'semata-mata', 'semaunya', 'sementara', 'semisal', 'semisalnya', 'sempat', 'semua', 'semuanya', 'semula', 'sendiri', 'sendirian', 'sendirinya', 'seolah', 'seolah-olah', 'seorang', 'sepanjang', 'sepantasnya', 'sepantasnyalah', 'seperlunya', 'seperti', 'sepertinya', 'sepihak', 'sering', 'seringnya', 'serta', 'serupa', 'sesaat', 'sesama', 'sesampai', 'sesegera', 'sesekali', 'seseorang', 'sesuatu', 'sesuatunya', 'sesudah', 'sesudahnya', 'setelah', 'setempat', 'setengah', 'seterusnya', 'setiap', 'setiba', 'setibanya', 'setidak-tidaknya', 'setidaknya', 'setinggi', 'seusai', 'sewaktu', 'siap', 'siapa', 'siapakah', 'siapapun', 'sini', 'sinilah', 'soal', 'soalnya', 'suatu', 'sudah', 'sudahkah', 'sudahlah', 'supaya', 'tadi', 'tadinya', 'tahu', 'tahun', 'tak', 'tambah', 'tambahnya', 'tampak', 'tampaknya', 'tandas', 'tandasnya', 'tanpa', 'tanya', 'tanyakan', 'tanyanya', 'tapi', 'tegas', 'tegasnya', 'telah', 'tempat', 'tengah', 'tentang', 'tentu', 'tentulah', 'tentunya', 'tepat', 'terakhir', 'terasa', 'terbanyak', 'terdahulu', 'terdapat', 'terdiri', 'terhadap', 'terhadapnya', 'teringat', 'teringat-ingat', 'terjadi', 'terjadilah', 'terjadinya', 'terkira', 'terlalu', 'terlebih', 'terlihat', 'termasuk', 'ternyata', 'tersampaikan', 'tersebut', 'tersebutlah', 'tertentu', 'tertuju', 'terus', 'terutama', 'tetap', 'tetapi', 'tiap', 'tiba', 'tiba-tiba', 'tidak', 'tidakkah', 'tidaklah', 'tiga', 'tinggi', 'toh', 'tunjuk', 'turut', 'tutur', 'tuturnya', 'ucap', 'ucapnya', 'ujar', 'ujarnya', 'umum', 'umumnya', 'ungkap', 'ungkapnya', 'untuk', 'usah', 'usai', 'waduh', 'wah', 'wahai', 'waktu', 'waktunya', 'walau', 'walaupun', 'wong', 'yaitu', 'yakin', 'yakni', 'yang', {'serupa', 'berlangsung', 'mana', 'usah', 'pada', 'seketika', 'dijawab', 'maka', 'tersampaikan', 'sepantasnyalah', 'sesuatunya', 'mendatang', 'dirinya', 'seorang', 'berapalah', 'padahal', 'masing-masing', 'diberikannya', 'jelaskan', 'diperbuat', 'gunakan', 'hendaklah', 'menyatakan', 'asal', 'adanya', 'jangankan', 'percuma', 'mengira', 'ke', 'disebutkannya', 'berapapun', 'ibaratkan', 'manalagi', 'tidaklah', 'bisakah', 'sekaligus', 'umum', 'secara', 'kira', 'rasa', 'luar', 'benar', 'sekarang', 'ditanyakan', 'menurut', 'berada', 'akankah', 'diperbuatnya', 'dong', 'dulu', 'melihat', 'wong', 'diperlihatkan', 'tiba', 'terdiri', 'dilakukan', 'biasanya', 'semasih', 'inikah', 'bersiap-siap', 'guna', 'bermaksud', 'mendapat', 'terdapat', 'memang', 'bulan', 'sesudah', 'ujar', 'hal', 'hingga', 'terjadilah', 'apabila', 'dibuat', 'sekitar', 'diperkirakan', 'tiap', 'menyebutkan', 'sedemikian', 'mengatakan', 'bila', 'didatangkan', 'rasanya', 'sekecil', 'bagai', 'tambahnya', 'ucapnya', 'suatu', 'dahulu', 'apaan', 'toh', 'bagaimanapun', 'sebelumnya', 'diakhiri', 'sepertinya', 'paling', 'yaitu', 'menunjuki', 'jadilah', 'seolah-olah', 'sebesar', 'seterusnya', 'menjawab', 'sela', 'sudahkah', 'berapakah', 'pertanyaan', 'ingat', 'kamulah', 'sudah', 'menghendaki', 'dimintai', 'tentunya', 'pun', 'kelima', 'diinginkan', 'berikutnya', 'menanti', 'diantaranya', 'diingat', 'disini', 'menanyai', 'bakalan', 'beginikah', 'kasus', 'diucapkannya', 'terhadapnya', 'jumlahnya', 'antara', 'pernah', 'ditunjukkannya', 'selalu', 'datang', 'selamanya', 'pertanyakan', 'sesuatu', 'terjadinya', 'mereka', 'hanya', 'umumnya', 'baik', 'benarkah', 'tidak', 'rupanya', 'bolehkah', 'bawah', 'seperlunya', 'terakhir', 'diberikan', 'begitu', 'turut', 'oleh', 'kapan', 'menyampaikan', 'ketika', 'dua', 'belakangan', 'dengan', 'bolehlah', 'memihak', 'terlalu', 'entahlah', 'lalu', 'setinggi', 'sudahlah', 'tempat', 'secukupnya', 'memisalkan', 'dipersoalkan', 'masih', 'mengenai', 'kan', 'ditegaskan', 'katakan', 'jika', 'segala', 'kemungkinannya', 'tadinya', 'cukup', 'pertama-tama', 'punya', 'wah', 'seolah', 'bukanlah', 'inilah', 'tiba-tiba', 'tambah', 'dituturkan', 'panjang', 'lagi', 'semuanya', 'kalian', 'sedikitnya', 'pertama', 'tunjuk', 'ungkapnya', 'kiranya', 'sedang', 'sekadarnya', 'menunjuknya', 'rata', 'beri', 'ditanya', 'menanyakan', 'persoalan', 'tanpa', 'begitupun', 'lebih', 'seringnya', 'merekalah', 'olehnya', 'mengucapkannya', 'daripada', 'belumlah', 'per', 'berapa', 'aku', 'berkenaan', 'dikarenakan', 'sekalipun', 'yang', 'keduanya', 'berakhirnya', 'jelas', 'setibanya', 'menanti-nanti', 'dimaksudkannya', 'manakala', 'nah', 'bahkan', 'demi', 'dari', 'sebanyak', 'sering', 'memperlihatkan', 'berlainan', 'melainkan', 'itu', 'waktu', 'katanya', 'sekali', 'semata', 'bermula', 'sebaik', 'bahwasanya', 'ibaratnya', 'bertanya', 'akhirnya', 'sesudahnya', 'menambahkan', 'semula', 'sekurangnya', 'mampukah', 'diingatkan', 'lagian', 'adapun', 'pak', 'sebagai', 'bilakah', 'seluruhnya', 'haruslah', 'masing', 'menjadi', 'diantara', 'mungkin', 'siapa', 'wahai', 'bersama-sama', 'menandaskan', 'bersiap', 'lanjutnya', 'melakukan', 'ini', 'begini', 'walaupun', 'mempersiapkan', 'amatlah', 'di', 'besar', 'supaya', 'macam', 'melihatnya', 'sinilah', 'kinilah', 'sekali-kali', 'dimulailah', 'meyakini', 'sama', 'inginkah', 'sebutnya', 'ditunjuki', 'keinginan', 'kelihatan', 'mampu', 'kapanpun', 'agar', 'tuturnya', 'ditunjukkan', 'cuma', 'itulah', 'dan', 'harus', 'perlukah', 'sebagian', 'tanya', 'seberapa', 'dimungkinkan', 'ditunjuk', 'kata', 'atas', 'untuk', 'terhadap', 'apatah', 'se', 'tanyanya', 'ditandaskan', 'dimisalkan', 'diperlukan', 'kurang', 'cukupkah', 'siap', 'kecil', 'setelah', 'bukannya', 'sekadar', 'tengah', 'mendapatkan', 'sepantasnya', 'siapakah', 'empat', 'mendatangi', 'saat', 'ikut', 'tepat', 'terus', 'nyatanya', 'kala', 'malahan', 'seenaknya', 'jelaslah', 'dipertanyakan', 'disinilah', 'keseluruhannya', 'jelasnya', 'bung', 'siapapun', 'berlalu', 'biasa', 'enggaknya', 'waktunya', 'sebuah', 'terlebih', 'menaiki', 'meski', 'bersama', 'baru', 'tegasnya', 'penting', 'lain', 'andalah', 'pihaknya', 'hendak', 'selaku', 'jadinya', 'buat', 'keadaan', 'semampu', 'minta', 'apakah', 'dikatakan', 'sebaiknya', 'setidaknya', 'sewaktu', 'bagaimana', 'kok', 'sejumlah', 'kini', 'ibu', 'sebabnya', 'diri', 'inginkan', 'mirip', 'dilalui', 'sangatlah', 'teringat-ingat', 'diketahui', 'menjelaskan', 'bukankah', 'terbanyak', 'anda', 'termasuk', 'masalah', 'tertentu', 'didapat', 'mulai', 'sebelum', 'menanya', 'menunjukkan', 'hanyalah', 'keluar', 'berarti', 'belakang', 'mula', 'misal', 'kalaulah', 'sebegini', 'meminta', 'berdatangan', 'setiap', 'awalnya', 'sampai', 'kamu', 'setempat', 'walau', 'sebisanya', 'diibaratkan', 'apa', 'sejenak', 'disebutkan', 'semua', 'tampaknya', 'sekurang-kurangnya', 'begitulah', 'makanya', 'dituturkannya', 'akhiri', 'seluruh', 'tiga', 'semasa', 'saja', 'sebenarnya', 'ucap', 'selanjutnya', 'sesama', 'kalau', 'enggak', 'kenapa', 'mengerjakan', 'dimulainya', 'dimaksudnya', 'balik', 'diibaratkannya', 'usai', 'sendiri', 'jawabnya', 'berkata', 'jawaban', 'yakni', 'menginginkan', 'menuturkan', 'disampaikan', 'berlebihan', 'mendatangkan', 'mengibaratkan', 'tentulah', 'mempergunakan', 'yakin', 'sampai-sampai', 'segera', 'demikianlah', 'ungkap', 'agaknya', 'ditanyai', 'berturut-turut', 'perlu', 'adalah', 'bertutur', 'lah', 'asalkan', 'dekat', 'sebut', 'sendirinya', 'seperti', 'ibarat', 'tak', 'awal', 'dikira', 'akulah', 'ada', 'ingat-ingat', 'berbagai', 'makin', 'kita', 'depan', 'meskipun', 'bagi', 'semaunya', 'tahu', 'serta', 'tetap', 'sehingga', 'mungkinkah', 'satu', 'entah', 'ditujukan', 'keterlaluan', 'tentang', 'sesaat', 'memperbuat', 'kepada', 'ataupun', 'mengibaratkannya', 'merupakan', 'jangan', 'mengatakannya', 'sedikit', 'terdahulu', 'karenanya', 'mengapa', 'beginian', 'para', 'mengingatkan', 'pukul', 'berakhir', 'tanyakan', 'bakal', 'caranya', 'dijelaskan', 'bahwa', 'teringat', 'akan', 'dia', 'juga', 'sementara', 'sampaikan', 'sepihak', 'dikerjakan', 'janganlah', 'betul', 'akhir', 'berjumlah', 'nanti', 'nantinya', 'benarlah', 'demikian', 'kesampaian', 'masalahnya', 'tadi', 'disebut', 'sebaliknya', 'sayalah', 'sebegitu', 'tegas', 'tertuju', 'tetapi', 'mulailah', 'dimaksudkan', 'meyakinkan', 'jumlah', 'diperlukannya', 'diketahuinya', 'jadi', 'mengetahui', 'sebab', 'menyiapkan', 'tinggi', 'banyak', 'diucapkan', 'berturut', 'dipergunakan', 'pastilah', 'berikan', 'bagaikan', 'menggunakan', 'tahun', 'segalanya', 'tapi', 'pasti', 'sendirian', 'menuju', 'sekiranya', 'diberi', 'merasa', 'lamanya', 'kebetulan', 'digunakan', 'jawab', 'sana', 'terlihat', 'seharusnya', 'tampak', 'apalagi', 'semakin', 'justru', 'kalaupun', 'dimaksud', 'perlunya', 'belum', 'dini', 'berikut', 'masa', 'padanya', 'saling', 'sini', 'sebagaimana', 'hari', 'selama', 'itukah', 'beberapa', 'memungkinkan', 'sangat', 'sesekali', 'misalnya', 'pihak', 'selain', 'melalui', 'semata-mata', 'begitukah', 'kapankah', 'kedua', 'sebaik-baiknya', 'dikatakannya', 'kira-kira', 'betulkah', 'mulanya', 'kemudian', 'dilihat', 'kelihatannya', 'soalnya', 'sesegera', 'ingin', 'jauh', 'kepadanya', 'berakhirlah', 'antaranya', 'kitalah', 'setidak-tidaknya', 'sesampai', 'menegaskan', 'dapat', 'sekitarnya', 'lewat', 'memintakan', 'sajalah', 'ialah', 'sempat', 'boleh', 'mempunyai', 'harusnya', 'semacam', 'bapak', 'antar', 'artinya', 'mengucapkan', 'tidakkah', 'ataukah', 'cukuplah', 'khususnya', 'memperkirakan', 'bermacam', 'memerlukan', 'terjadi', 'ditambahkan', 'amat', 'waduh', 'sambil', 'kelamaan', 'dipastikan', 'bagian', 'setiba', 'pula', 'sepanjang', 'semampunya', 'dipunyai', 'selama-lamanya', 'telah', 'bukan', 'malah', 'katakanlah', 'seseorang', 'nyaris', 'berujar', 'sedangkan', 'diakhirinya', 'tandasnya', 'berkeinginan', 'sebetulnya', 'diminta', 'dibuatnya', 'tandas', 'kami', 'tersebut', 'maupun', 'sebutlah', 'hampir', 'bertanya-tanya', 'dialah', 'berkehendak', 'semisalnya', 'membuat', 'memberikan', 'jikalau', 'karena', 'kemungkinan', 'bisa', 'saatnya', 'memulai', 'dijelaskannya', 'mengakhiri', 'bagaimanakah', 'pantas', 'memastikan', 'berupa', 'seusai', 'tutur', 'sekalian', 'agak', 'terkira', 'berawal', 'kembali', 'mengingat', 'setengah', 'keseluruhan', 'namun', 'masihkah', 'mempertanyakan', 'mempersoalkan', 'dalam', 'pentingnya', 'dimulai', 'naik', 'menunjuk', 'kamilah', 'lama', 'menantikan', 'semisal', 'lanjut', 'beginilah', 'bekerja', 'ia', 'sejak', 'misalkan', 'hendaknya', 'tersebutlah', 'saya', 'terutama', 'terasa', 'sebagainya', 'atau', 'ternyata', 'seingat', 'mengungkapkan', 'ujarnya', 'cara', 'bermacam-macam', 'sama-sama', 'berkali-kali', 'memberi', 'menyeluruh', 'sejauh', 'soal', 'lainnya', 'tentu', 'lima', 'mau', 'ditunjuknya', 'diungkapkan', 'menyangkut'}]\n"
     ]
    },
    {
     "data": {
      "text/plain": [
       "759"
      ]
     },
     "execution_count": 19,
     "metadata": {},
     "output_type": "execute_result"
    }
   ],
   "source": [
    "from spacy.lang.id import Indonesian\n",
    "import spacy\n",
    "# nlp adalah natural leaguage processing \n",
    "# nlp = Indonesian() # use directly\n",
    "nlp = spacy.blank('id') # blank instance\n",
    "# bisa pilih salah satu bentuk variabel nlp di atas,\n",
    "\n",
    "# kumpulkan semua kata2 stopword di bahasa indonesia pada variabel stopwords\n",
    "stopwords = nlp.Defaults.stop_words\n",
    "f = open(\"tala.txt\", \"r\") \n",
    "stopword_list = []\n",
    "for line in f:\n",
    "    stripped_line = line.strip()\n",
    "    line_list = stripped_line.split()\n",
    "    stopword_list.append(line_list[0])\n",
    "f.close()\n",
    "stopword_list.append(stopwords)\n",
    "tokens = corp\n",
    "\n",
    "tokens_nostopword = [w for w in tokens if not w in stopword_list]\n",
    "\n",
    " \n",
    "#  hilangkan stopword di w dengan sintaks \"if not w in\"\n",
    "\n",
    "print(stopword_list)\n"
   ]
  },
  {
   "cell_type": "code",
   "execution_count": 21,
   "id": "6eb86dca",
   "metadata": {},
   "outputs": [
    {
     "name": "stdout",
     "output_type": "stream",
     "text": [
      "[['Wilayah', 'Kamu', 'Sudah', \"'\", 'Bebas', \"'\", 'COVID', '-', '19', '?', 'Cek', '34', 'Kab', '/', 'Kota', 'Zona', 'Hijau', 'Terbaru', ' ', 'Jakarta', '-', 'Pemerintah', 'rencananya', 'bakal', 'menerapkan', 'Pemberlakuan', 'Pembatasan', 'Kegiatan', 'Masyarakat', '(', 'PPKM', ')', 'level', '3', 'terhitung', '24', 'Desember', '2021', 'hingga', '2', 'Januari', '2021', '.', 'Namun', ',', 'Kementerian', 'Kesehatan', 'RI', 'memastikan', 'kebijakan', 'PPKM', 'level', '3', 'ini', 'masih', 'dalam', 'tahap', 'kajian', '.', 'Menurut', 'Direktur', 'Pencegahan', 'dan', 'Pengendalian', 'Penyakit', 'Menular', 'Langsung', '(', 'P2PML', ')', 'Kemenkes', 'RI', 'dr', 'Siti', 'Nadia', 'Tarmizi', ',', 'PPKM', 'level', '3', 'bakal', 'diterapkan', 'jika', 'kasus', 'COVID', '-', '19', 'naik', 'signifikan', '.', 'Hal', 'ini', 'umumnya', 'dipicu', 'dengan', 'peningkatan', 'mobilitas', 'dan', 'pelonggaran', 'protokol', 'kesehatan', '.', ' '], ['Vaksin', 'COVID', '-', '19', 'Bakal', 'Rutin', 'Setiap', 'Tahun', '?', 'Tergantung', ',', 'Ini', 'Penjelasannya', ' ', 'Jakarta', '-', 'Pemberian', 'booster', 'atau', 'dosis', 'ketiga', 'vaksin', 'COVID', '-', '19', 'di', 'Indonesia', 'direncanakan', 'bakal', 'berlangsung', 'Januari', '2022', '.', 'Lantas', 'adakah', 'kemungkinan', 'vaksinasi', 'COVID', '-', '19', 'bakal', 'harus', 'dilakukan', 'setiap', 'tahun', 'seperti', 'vaksinasi', 'influenza', '?', 'Ketua', 'Satgas', 'COVID', '-', '19', 'Ikatan', 'Dokter', 'Indonesia', '(', 'IDI', ')', 'Prof', 'Zubairi', 'Djoerban', 'menjelaskan', 'hingga', 'kini', 'belum', 'ada', 'kepastian', 'terkait', 'hal', 'tersebut', '.', 'Menurutnya', 'masih', 'ada', 'kemungkinan', 'vaksin', 'COVID', '-', '19', 'harus', 'diberikan', 'setiap', 'tahun', ',', 'ada', 'juga', 'kemungkinan', 'cukup', 'booster', 'diberikan', 'sekali', 'kemudian', 'vaksinasi', 'COVID', '-', '19', 'tidak', 'diperlukan', 'lagi', '.', ' '], ['RI', 'Mulai', 'Suntikkan', 'Booster', 'di', '2022', ',', 'Masihkah', 'Ampuh', 'Lawan', 'Varian', 'Delta', 'Cs', '?', ' ', 'Jakarta', '-', 'Pakar', 'mengakui', 'vaksin', '-', 'vaksin', 'yang', 'sudah', 'digunakan', 'untuk', 'dosis', '1', '-', '2', 'memang', 'mengalami', 'penurunan', 'efektivitas', 'terhadap', 'varian', 'baru', 'Corona', 'seperti', 'varian', 'Delta', '.', 'Mengingat', 'booster', 'atau', 'dosis', 'ketiga', 'vaksin', 'COVID', '-', '19', 'di', 'Indonesia', 'disebut', 'bakal', 'dimulai', 'awal', '2022', ',', 'apakah', 'jenis', 'vaksin', 'yang', 'digunakan', 'bakal', 'mengikuti', 'strain', 'virus', 'terbaru', '?', 'Menjawab', 'pertanyaan', 'tersebut', ',', 'Ketua', 'Satgas', 'COVID', '-', '19', 'Ikatan', 'Dokter', 'Indonesia', '(', 'IDI', ')', 'Prof', 'Zubairi', 'Djoerban', 'kembali', 'menyinggung', 'riset', 'yang', 'sudah', 'berlangsung', 'terkait', 'efektivitas', 'vaksin', 'COVID', '-', '19', 'dosis', '1', 'dan', '2', '.', 'Ia', 'menyebut', 'berdasarkan', 'riset', 'sejauh', 'ini', ',', 'efektivitas', 'vaksin', 'COVID', '-', '19', 'Pfizer', 'dan', 'Moderna', 'terbukti', 'menurun', 'dalam', 'melawan', 'varian', 'Delta', '.', ' '], ['Alert', '!', 'Kasus', 'Varian', 'Delta', 'COVID', '-', '19', 'di', 'DKI', 'Meningkat', ' ', 'Jakarta', '-', 'Data', 'terbaru', 'dari', 'Balitbangkes', 'Kemenkes', 'RI', 'per', '13', 'November', ',', 'menunjukkan', 'adanya', 'penambahan', 'varian', 'Delta', '.', 'Penambahan', 'tersebut', 'terjadi', 'di', 'Jawa', 'Barat', 'ada', '165', 'kasus', ',', 'DKI', 'Jakarta', '90', 'kasus', ',', 'dan', 'Sulawesi', 'Utara', '86', 'kasus', '.', 'Dalam', 'satu', 'bulan', 'terakhir', ',', 'Balitbangkes', 'menyebutkan', 'DKI', 'Jakarta', 'mengalami', 'peningkatan', 'kasus', 'varian', 'Delta', 'yang', 'signifikan', '.', 'Sementara', ',', 'pada', 'varian', 'baru', 'seperti', 'varian', 'Alpha', ',', 'varian', 'Delta', ',', 'hingga', 'Beta', 'terbanyak', 'di', 'Indonesia', 'berasal', 'dari', 'DKI', 'Jakarta', ',', 'dengan', 'total', '1.327', 'kasus', '.', ' '], ['Corona', 'di', 'AS', 'Mendadak', 'Naik', 'Lagi', 'Usai', 'Serangan', 'Delta', 'Sempat', 'Mereda', ' ', 'Jakarta', '-', 'Kasus', 'COVID', '-', '19', 'kembali', 'naik', 'di', 'sejumlah', 'wilayah', 'Amerika', 'Serikat', '(', 'AS', ')', '.', 'Padahal', 'diketahui', ',', 'COVID', '-', '19', 'sempat', 'tercatat', 'stabil', 'pasca', 'serangan', 'varian', 'Delta', 'musim', 'panas', 'ini', '.', 'Ada', 'apa', '?', 'Hal', 'tersebut', 'disampaikan', 'oleh', 'kepala', 'penasihat', 'medis', 'Gedung', 'Putih', 'Dr.', 'Anthony', 'Fauci', ',', 'Senin', '(', '15', '/', '11', '/', '2021', ')', '.', 'Diketahui', ',', 'kasus', 'nasional', 'turun', '57', 'persen', 'minggu', 'lalu', 'dari', 'puncak', 'gelombang', 'varian', 'Delta', 'pada', 'musim', 'panas', '.', 'Namun', 'jumlah', 'pasien', 'COVID', '-', '19', 'di', 'area', 'Barat', 'Tengah', 'dan', 'Timur', 'laut', 'kini', 'naik', 'mendadak', '.', ' ']]\n"
     ]
    }
   ],
   "source": [
    "# TOKENISASI\n",
    "# menggunakan library spacy (memiliki pemrosesan teks khusus bahasa Indonesia)\n",
    "from spacy.lang.id import Indonesian\n",
    "import spacy, re\n",
    "\n",
    "# nlp = natural language processing \n",
    "\n",
    "nlp_tugas = Indonesian()\n",
    "stp_words_tugas = nlp_tugas.Defaults.stop_words\n",
    "corp = []\n",
    "corpus_term = []\n",
    "for file in os.listdir(path):\n",
    "    with open(os.path.join(path, file), 'r') as f:\n",
    "        clean_txt = re.sub(\"http\\S+\", '', f.read())\n",
    "        clean_txt = re.sub(\"[\\n\\n]\", ' ', clean_txt)\n",
    "        corp.append(clean_txt)\n",
    "        \n",
    "        \n",
    "#tokenisasi\n",
    "for doc in corp:\n",
    "    token_kata = [token.text for token in nlp_tugas(doc)]\n",
    "    # print(token_kata)\n",
    "    corpus_term.append(token_kata)\n",
    "    \n",
    "\n",
    "print(corpus_term)"
   ]
  },
  {
   "cell_type": "code",
   "execution_count": null,
   "id": "ef89a3d5",
   "metadata": {},
   "outputs": [],
   "source": [
    "#stemming adalah proses melepaskan imbuhan pada kata\n",
    "\n",
    "def stemming(text): \n",
    "    from Sastrawi.Stemmer.StemmerFactory import StemmerFactory\n",
    "\n",
    "    #create stemmer\n",
    "    factory = StemmerFactory()\n",
    "    stemmer = factory.create_stemmer()\n",
    "\n",
    "    output=stemmer.stem(text)\n",
    "    #s=stopworded(output)\n",
    "    return output\n"
   ]
  },
  {
   "cell_type": "code",
   "execution_count": 22,
   "id": "00e99f3d",
   "metadata": {},
   "outputs": [
    {
     "name": "stdout",
     "output_type": "stream",
     "text": [
      "your object is a list !\n"
     ]
    }
   ],
   "source": [
    "#cek apakah corpus_term itu list bukan\n",
    "\n",
    "if isinstance(corpus_term, list):\n",
    "  print(\"your object is a list !\")\n",
    "else:\n",
    "    print(\"your object is not a list\")"
   ]
  },
  {
   "cell_type": "code",
   "execution_count": 23,
   "id": "0984ea3b",
   "metadata": {},
   "outputs": [
    {
     "name": "stdout",
     "output_type": "stream",
     "text": [
      "{'wilayah': [1, 5], 'kamu': [1], 'sudah': [1, 3], '': [1, 2, 3, 4, 5], 'bebas': [1], 'covid': [1, 2, 3, 4, 5], '-': [1, 2, 3, 4, 5], '19': [1, 2, 3, 4, 5], 'cek': [1], '34': [1], 'kab': [1], 'kota': [1], 'zona': [1], 'hijau': [1], 'baru': [1, 3, 4], 'jakarta': [1, 2, 3, 4, 5], 'perintah': [1], 'rencana': [1, 2], 'bakal': [1, 2, 3], 'terap': [1], 'laku': [1, 2], 'batas': [1], 'giat': [1], 'masyarakat': [1], 'ppkm': [1], 'level': [1], '3': [1], 'hitung': [1], '24': [1], 'desember': [1], '2021': [1, 5], 'hingga': [1, 2, 4], '2': [1, 3], 'januari': [1, 2], 'namun': [1, 5], 'menteri': [1], 'sehat': [1], 'ri': [1, 3, 4], 'pasti': [1, 2], 'bijak': [1], 'ini': [1, 2, 3, 5], 'masih': [1, 2, 3], 'dalam': [1, 3, 4], 'tahap': [1], 'kaji': [1], 'turut': [1, 2], 'direktur': [1], 'cegah': [1], 'dan': [1, 3, 4, 5], 'kendali': [1], 'sakit': [1], 'tular': [1], 'langsung': [1, 2, 3], 'p2pml': [1], 'kemenkes': [1, 4], 'dr': [1, 5], 'siti': [1], 'nadia': [1], 'tarmizi': [1], 'jika': [1], 'kasus': [1, 4, 5], 'naik': [1, 5], 'signifikan': [1, 4], 'hal': [1, 2, 5], 'umum': [1], 'picu': [1], 'dengan': [1, 4], 'tingkat': [1, 4], 'mobilitas': [1], 'longgar': [1], 'protokol': [1], 'vaksin': [2, 3], 'rutin': [2], 'tiap': [2], 'tahun': [2], 'gantung': [2], 'jelas': [2], 'beri': [2], 'booster': [2, 3], 'atau': [2, 3], 'dosis': [2, 3], 'tiga': [2, 3], 'di': [2, 3, 4, 5], 'indonesia': [2, 3, 4], '2022': [2, 3], 'lantas': [2], 'ada': [2, 4, 5], 'mungkin': [2], 'vaksinasi': [2], 'harus': [2], 'seperti': [2, 3, 4], 'influenza': [2], 'ketua': [2, 3], 'satgas': [2, 3], 'ikat': [2, 3], 'dokter': [2, 3], 'idi': [2, 3], 'prof': [2, 3], 'zubairi': [2, 3], 'djoerban': [2, 3], 'kini': [2, 5], 'belum': [2], 'kait': [2, 3], 'sebut': [2, 3, 4, 5], 'juga': [2], 'cukup': [2], 'sekali': [2], 'kemudian': [2], 'tidak': [2], 'perlu': [2], 'lagi': [2, 5], 'mulai': [3], 'suntik': [3], 'ampuh': [3], 'lawan': [3], 'varian': [3, 4, 5], 'delta': [3, 4, 5], 'cs': [3], 'pakar': [3], 'aku': [3], 'yang': [3, 4], 'guna': [3], 'untuk': [3], '1': [3], 'memang': [3], 'alami': [3, 4], 'turun': [3, 5], 'efektivitas': [3], 'hadap': [3], 'corona': [3, 5], 'ingat': [3], 'awal': [3], 'apakah': [3], 'jenis': [3], 'ikut': [3], 'strain': [3], 'virus': [3], 'jawab': [3], 'tanya': [3], 'kembali': [3, 5], 'singgung': [3], 'riset': [3], 'ia': [3], 'dasar': [3], 'jauh': [3], 'pfizer': [3], 'moderna': [3], 'bukti': [3], 'alert': [4], 'dki': [4], 'data': [4], 'dari': [4, 5], 'balitbangkes': [4], 'per': [4], '13': [4], 'november': [4], 'tunjuk': [4], 'tambah': [4], 'jadi': [4], 'jawa': [4], 'barat': [4, 5], '165': [4], '90': [4], 'sulawesi': [4], 'utara': [4], '86': [4], 'satu': [4], 'bulan': [4], 'akhir': [4], 'sementara': [4], 'pada': [4, 5], 'alpha': [4], 'beta': [4], 'banyak': [4], 'asal': [4], 'total': [4], '1 327': [4], 'as': [5], 'dadak': [5], 'usai': [5], 'serang': [5], 'sempat': [5], 'reda': [5], 'jumlah': [5], 'amerika': [5], 'serikat': [5], 'padahal': [5], 'tahu': [5], 'catat': [5], 'stabil': [5], 'pasca': [5], 'musim': [5], 'panas': [5], 'apa': [5], 'sampai': [5], 'oleh': [5], 'kepala': [5], 'nasihat': [5], 'medis': [5], 'gedung': [5], 'putih': [5], 'anthony': [5], 'fauci': [5], 'senin': [5], '15': [5], '11': [5], 'nasional': [5], '57': [5], 'persen': [5], 'minggu': [5], 'lalu': [5], 'puncak': [5], 'gelombang': [5], 'pasien': [5], 'area': [5], 'tengah': [5], 'timur': [5], 'laut': [5]}\n"
     ]
    }
   ],
   "source": [
    "inverted_index = {}\n",
    " \n",
    "for i in range(len(corpus_term)):\n",
    "    for item in corpus_term[i]:\n",
    "        item = stemming(item)\n",
    "        if item not in inverted_index:\n",
    "            inverted_index[item] = []\n",
    "        if (item in inverted_index) and ((i+1) not in inverted_index[item]):\n",
    "            inverted_index[item].append(i+1)\n",
    "print(inverted_index)"
   ]
  },
  {
   "cell_type": "code",
   "execution_count": null,
   "id": "53a6d3d0",
   "metadata": {},
   "outputs": [],
   "source": []
  }
 ],
 "metadata": {
  "kernelspec": {
   "display_name": "Python 3 (ipykernel)",
   "language": "python",
   "name": "python3"
  },
  "language_info": {
   "codemirror_mode": {
    "name": "ipython",
    "version": 3
   },
   "file_extension": ".py",
   "mimetype": "text/x-python",
   "name": "python",
   "nbconvert_exporter": "python",
   "pygments_lexer": "ipython3",
   "version": "3.9.12"
  }
 },
 "nbformat": 4,
 "nbformat_minor": 5
}
