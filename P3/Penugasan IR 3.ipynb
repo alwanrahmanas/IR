{
 "cells": [
  {
   "cell_type": "code",
   "execution_count": 6,
   "id": "3fc01e63",
   "metadata": {},
   "outputs": [
    {
     "name": "stdout",
     "output_type": "stream",
     "text": [
      "Wilayah Kamu Sudah 'Bebas' COVID-19? Cek 34 Kab/Kota Zona Hijau Terbaru\n",
      "\n",
      "Jakarta - Pemerintah rencananya bakal menerapkan Pemberlakuan Pembatasan Kegiatan Masyarakat (PPKM) level 3 terhitung 24 Desember 2021 hingga 2 Januari 2021. Namun, Kementerian Kesehatan RI memastikan kebijakan PPKM level 3 ini masih dalam tahap kajian.\n",
      "Menurut Direktur Pencegahan dan Pengendalian Penyakit Menular Langsung (P2PML) Kemenkes RI dr Siti Nadia Tarmizi, PPKM level 3 bakal diterapkan jika kasus COVID-19 naik signifikan. Hal ini umumnya dipicu dengan peningkatan mobilitas dan pelonggaran protokol kesehatan.\n",
      "\n",
      "https://health.detik.com/berita-detikhealth/d-5816690/wilayah-kamu-sudah-bebas-covid-19-cek-34-kabkota-zona-hijau-terbaru\n",
      "Vaksin COVID-19 Bakal Rutin Setiap Tahun? Tergantung, Ini Penjelasannya\n",
      "\n",
      "Jakarta - Pemberian booster atau dosis ketiga vaksin COVID-19 di Indonesia direncanakan bakal berlangsung Januari 2022. Lantas adakah kemungkinan vaksinasi COVID-19 bakal harus dilakukan setiap tahun seperti vaksinasi influenza?\n",
      "Ketua Satgas COVID-19 Ikatan Dokter Indonesia (IDI) Prof Zubairi Djoerban menjelaskan hingga kini belum ada kepastian terkait hal tersebut. Menurutnya masih ada kemungkinan vaksin COVID-19 harus diberikan setiap tahun, ada juga kemungkinan cukup booster diberikan sekali kemudian vaksinasi COVID-19 tidak diperlukan lagi.\n",
      "\n",
      "https://health.detik.com/berita-detikhealth/d-5816582/vaksin-covid-19-bakal-rutin-setiap-tahun-tergantung-ini-penjelasannya\n",
      "RI Mulai Suntikkan Booster di 2022, Masihkah Ampuh Lawan Varian Delta Cs?\n",
      "\n",
      "Jakarta - Pakar mengakui vaksin-vaksin yang sudah digunakan untuk dosis 1-2 memang mengalami penurunan efektivitas terhadap varian baru Corona seperti varian Delta. Mengingat booster atau dosis ketiga vaksin COVID-19 di Indonesia disebut bakal dimulai awal 2022, apakah jenis vaksin yang digunakan bakal mengikuti strain virus terbaru?\n",
      "Menjawab pertanyaan tersebut, Ketua Satgas COVID-19 Ikatan Dokter Indonesia (IDI) Prof Zubairi Djoerban kembali menyinggung riset yang sudah berlangsung terkait efektivitas vaksin COVID-19 dosis 1 dan 2. Ia menyebut berdasarkan riset sejauh ini, efektivitas vaksin COVID-19 Pfizer dan Moderna terbukti menurun dalam melawan varian Delta.\n",
      "\n",
      "https://health.detik.com/berita-detikhealth/d-5816534/ri-mulai-suntikkan-booster-di-2022-masihkah-ampuh-lawan-varian-delta-cs\n",
      "Alert! Kasus Varian Delta COVID-19 di DKI Meningkat\n",
      "\n",
      "Jakarta - Data terbaru dari Balitbangkes Kemenkes RI per 13 November, menunjukkan adanya penambahan varian Delta. Penambahan tersebut terjadi di Jawa Barat ada 165 kasus, DKI Jakarta 90 kasus, dan Sulawesi Utara 86 kasus.\n",
      "Dalam satu bulan terakhir, Balitbangkes menyebutkan DKI Jakarta mengalami peningkatan kasus varian Delta yang signifikan. Sementara, pada varian baru seperti varian Alpha, varian Delta, hingga Beta terbanyak di Indonesia berasal dari DKI Jakarta, dengan total 1.327 kasus .\n",
      "\n",
      "https://health.detik.com/berita-detikhealth/d-5812940/alert-kasus-varian-delta-covid-19-di-dki-meningkat\n",
      "Corona di AS Mendadak Naik Lagi Usai Serangan Delta Sempat Mereda\n",
      "\n",
      "Jakarta - Kasus COVID-19 kembali naik di sejumlah wilayah Amerika Serikat (AS). Padahal diketahui, COVID-19 sempat tercatat stabil pasca serangan varian Delta musim panas ini. Ada apa?\n",
      "Hal tersebut disampaikan oleh kepala penasihat medis Gedung Putih Dr. Anthony Fauci, Senin (15/11/2021). Diketahui, kasus nasional turun 57 persen minggu lalu dari puncak gelombang varian Delta pada musim panas. Namun jumlah pasien COVID-19 di area Barat Tengah dan Timur laut kini naik mendadak.\n",
      "\n",
      "https://health.detik.com/berita-detikhealth/d-5813949/corona-di-as-mendadak-naik-lagi-usai-serangan-delta-sempat-mereda\n"
     ]
    }
   ],
   "source": [
    "f = open('berita1.txt', 'r')\n",
    "berita1=f.read()\n",
    "print(berita1)\n",
    "\n",
    "f = open('berita2.txt', 'r')\n",
    "berita2=f.read()\n",
    "print(berita2)\n",
    "\n",
    "f = open('berita3.txt', 'r')\n",
    "berita3=f.read()\n",
    "print(berita3)\n",
    "\n",
    "f = open('berita4.txt', 'r')\n",
    "berita4=f.read()\n",
    "print(berita4)\n",
    "\n",
    "f = open('berita5.txt', 'r')\n",
    "berita5=f.read()\n",
    "print(berita5)\n",
    "\n",
    "f=None\n",
    "\n",
    "corpus=[berita1,berita2,berita3,berita4,berita5]"
   ]
  },
  {
   "cell_type": "code",
   "execution_count": 3,
   "id": "ef56622b",
   "metadata": {},
   "outputs": [],
   "source": [
    "#tokenisasi\n",
    "import spacy\n",
    "\n",
    "def tokenisasi(text):\n",
    "    tokens=text.split(\" \")\n",
    "    return tokens\n",
    "\n",
    "#case-folding\n",
    "#ngecilin huruf\n",
    "\n",
    "def kecilin(text):\n",
    "    teks=text.lower()\n",
    "    return teks\n",
    "\n",
    "#stop-words\n",
    "\n",
    "def stop(text):\n",
    "    \n",
    "    from spacy.lang.id import Indonesian\n",
    "    nlp=Indonesian() #use directly\n",
    "    nlp=spacy.blank('id')\n",
    "    spacy_id=nlp(text)\n",
    "    token_kata=[token.text for token in spacy_id]\n",
    "    word_count(text)\n",
    "    return token_kata\n",
    "    \n",
    "\n",
    "\n",
    "def word_count(str):\n",
    "    counts = dict()\n",
    "    words = tokenisasi(str)\n",
    "    i=0\n",
    "    for word in words:\n",
    "        if word in counts:\n",
    "            counts[word] += 1\n",
    "            i+=1\n",
    "        else:\n",
    "            counts[word] = 1\n",
    "            i+=1\n",
    "    print(\"total=\")\n",
    "    print(i)\n",
    "    return counts\n",
    "\n"
   ]
  },
  {
   "cell_type": "code",
   "execution_count": 9,
   "id": "d636b904",
   "metadata": {},
   "outputs": [
    {
     "name": "stdout",
     "output_type": "stream",
     "text": [
      "['ada', 'adalah', 'adanya', 'adapun', 'agak', 'agaknya', 'agar', 'akan', 'akankah', 'akhir', 'akhiri', 'akhirnya', 'aku', 'akulah', 'amat', 'amatlah', 'anda', 'andalah', 'antar', 'antara', 'antaranya', 'apa', 'apaan', 'apabila', 'apakah', 'apalagi', 'apatah', 'artinya', 'asal', 'asalkan', 'atas', 'atau', 'ataukah', 'ataupun', 'awal', 'awalnya', 'bagai', 'bagaikan', 'bagaimana', 'bagaimanakah', 'bagaimanapun', 'bagi', 'bagian', 'bahkan', 'bahwa', 'bahwasanya', 'baik', 'bakal', 'bakalan', 'balik', 'banyak', 'bapak', 'baru', 'bawah', 'beberapa', 'begini', 'beginian', 'beginikah', 'beginilah', 'begitu', 'begitukah', 'begitulah', 'begitupun', 'bekerja', 'belakang', 'belakangan', 'belum', 'belumlah', 'benar', 'benarkah', 'benarlah', 'berada', 'berakhir', 'berakhirlah', 'berakhirnya', 'berapa', 'berapakah', 'berapalah', 'berapapun', 'berarti', 'berawal', 'berbagai', 'berdatangan', 'beri', 'berikan', 'berikut', 'berikutnya', 'berjumlah', 'berkali-kali', 'berkata', 'berkehendak', 'berkeinginan', 'berkenaan', 'berlainan', 'berlalu', 'berlangsung', 'berlebihan', 'bermacam', 'bermacam-macam', 'bermaksud', 'bermula', 'bersama', 'bersama-sama', 'bersiap', 'bersiap-siap', 'bertanya', 'bertanya-tanya', 'berturut', 'berturut-turut', 'bertutur', 'berujar', 'berupa', 'besar', 'betul', 'betulkah', 'biasa', 'biasanya', 'bila', 'bilakah', 'bisa', 'bisakah', 'boleh', 'bolehkah', 'bolehlah', 'buat', 'bukan', 'bukankah', 'bukanlah', 'bukannya', 'bulan', 'bung', 'cara', 'caranya', 'cukup', 'cukupkah', 'cukuplah', 'cuma', 'dahulu', 'dalam', 'dan', 'dapat', 'dari', 'daripada', 'datang', 'dekat', 'demi', 'demikian', 'demikianlah', 'dengan', 'depan', 'di', 'dia', 'diakhiri', 'diakhirinya', 'dialah', 'diantara', 'diantaranya', 'diberi', 'diberikan', 'diberikannya', 'dibuat', 'dibuatnya', 'didapat', 'didatangkan', 'digunakan', 'diibaratkan', 'diibaratkannya', 'diingat', 'diingatkan', 'diinginkan', 'dijawab', 'dijelaskan', 'dijelaskannya', 'dikarenakan', 'dikatakan', 'dikatakannya', 'dikerjakan', 'diketahui', 'diketahuinya', 'dikira', 'dilakukan', 'dilalui', 'dilihat', 'dimaksud', 'dimaksudkan', 'dimaksudkannya', 'dimaksudnya', 'diminta', 'dimintai', 'dimisalkan', 'dimulai', 'dimulailah', 'dimulainya', 'dimungkinkan', 'dini', 'dipastikan', 'diperbuat', 'diperbuatnya', 'dipergunakan', 'diperkirakan', 'diperlihatkan', 'diperlukan', 'diperlukannya', 'dipersoalkan', 'dipertanyakan', 'dipunyai', 'diri', 'dirinya', 'disampaikan', 'disebut', 'disebutkan', 'disebutkannya', 'disini', 'disinilah', 'ditambahkan', 'ditandaskan', 'ditanya', 'ditanyai', 'ditanyakan', 'ditegaskan', 'ditujukan', 'ditunjuk', 'ditunjuki', 'ditunjukkan', 'ditunjukkannya', 'ditunjuknya', 'dituturkan', 'dituturkannya', 'diucapkan', 'diucapkannya', 'diungkapkan', 'dong', 'dua', 'dulu', 'empat', 'enggak', 'enggaknya', 'entah', 'entahlah', 'guna', 'gunakan', 'hal', 'hampir', 'hanya', 'hanyalah', 'hari', 'harus', 'haruslah', 'harusnya', 'hendak', 'hendaklah', 'hendaknya', 'hingga', 'ia', 'ialah', 'ibarat', 'ibaratkan', 'ibaratnya', 'ibu', 'ikut', 'ingat', 'ingat-ingat', 'ingin', 'inginkah', 'inginkan', 'ini', 'inikah', 'inilah', 'itu', 'itukah', 'itulah', 'jadi', 'jadilah', 'jadinya', 'jangan', 'jangankan', 'janganlah', 'jauh', 'jawab', 'jawaban', 'jawabnya', 'jelas', 'jelaskan', 'jelaslah', 'jelasnya', 'jika', 'jikalau', 'juga', 'jumlah', 'jumlahnya', 'justru', 'kala', 'kalau', 'kalaulah', 'kalaupun', 'kalian', 'kami', 'kamilah', 'kamu', 'kamulah', 'kan', 'kapan', 'kapankah', 'kapanpun', 'karena', 'karenanya', 'kasus', 'kata', 'katakan', 'katakanlah', 'katanya', 'ke', 'keadaan', 'kebetulan', 'kecil', 'kedua', 'keduanya', 'keinginan', 'kelamaan', 'kelihatan', 'kelihatannya', 'kelima', 'keluar', 'kembali', 'kemudian', 'kemungkinan', 'kemungkinannya', 'kenapa', 'kepada', 'kepadanya', 'kesampaian', 'keseluruhan', 'keseluruhannya', 'keterlaluan', 'ketika', 'khususnya', 'kini', 'kinilah', 'kira', 'kira-kira', 'kiranya', 'kita', 'kitalah', 'kok', 'kurang', 'lagi', 'lagian', 'lah', 'lain', 'lainnya', 'lalu', 'lama', 'lamanya', 'lanjut', 'lanjutnya', 'lebih', 'lewat', 'lima', 'luar', 'macam', 'maka', 'makanya', 'makin', 'malah', 'malahan', 'mampu', 'mampukah', 'mana', 'manakala', 'manalagi', 'masa', 'masalah', 'masalahnya', 'masih', 'masihkah', 'masing', 'masing-masing', 'mau', 'maupun', 'melainkan', 'melakukan', 'melalui', 'melihat', 'melihatnya', 'memang', 'memastikan', 'memberi', 'memberikan', 'membuat', 'memerlukan', 'memihak', 'meminta', 'memintakan', 'memisalkan', 'memperbuat', 'mempergunakan', 'memperkirakan', 'memperlihatkan', 'mempersiapkan', 'mempersoalkan', 'mempertanyakan', 'mempunyai', 'memulai', 'memungkinkan', 'menaiki', 'menambahkan', 'menandaskan', 'menanti', 'menanti-nanti', 'menantikan', 'menanya', 'menanyai', 'menanyakan', 'mendapat', 'mendapatkan', 'mendatang', 'mendatangi', 'mendatangkan', 'menegaskan', 'mengakhiri', 'mengapa', 'mengatakan', 'mengatakannya', 'mengenai', 'mengerjakan', 'mengetahui', 'menggunakan', 'menghendaki', 'mengibaratkan', 'mengibaratkannya', 'mengingat', 'mengingatkan', 'menginginkan', 'mengira', 'mengucapkan', 'mengucapkannya', 'mengungkapkan', 'menjadi', 'menjawab', 'menjelaskan', 'menuju', 'menunjuk', 'menunjuki', 'menunjukkan', 'menunjuknya', 'menurut', 'menuturkan', 'menyampaikan', 'menyangkut', 'menyatakan', 'menyebutkan', 'menyeluruh', 'menyiapkan', 'merasa', 'mereka', 'merekalah', 'merupakan', 'meski', 'meskipun', 'meyakini', 'meyakinkan', 'minta', 'mirip', 'misal', 'misalkan', 'misalnya', 'mula', 'mulai', 'mulailah', 'mulanya', 'mungkin', 'mungkinkah', 'nah', 'naik', 'namun', 'nanti', 'nantinya', 'nyaris', 'nyatanya', 'oleh', 'olehnya', 'pada', 'padahal', 'padanya', 'pak', 'paling', 'panjang', 'pantas', 'para', 'pasti', 'pastilah', 'penting', 'pentingnya', 'per', 'percuma', 'perlu', 'perlukah', 'perlunya', 'pernah', 'persoalan', 'pertama', 'pertama-tama', 'pertanyaan', 'pertanyakan', 'pihak', 'pihaknya', 'pukul', 'pula', 'pun', 'punya', 'rasa', 'rasanya', 'rata', 'rupanya', 'saat', 'saatnya', 'saja', 'sajalah', 'saling', 'sama', 'sama-sama', 'sambil', 'sampai', 'sampai-sampai', 'sampaikan', 'sana', 'sangat', 'sangatlah', 'satu', 'saya', 'sayalah', 'se', 'sebab', 'sebabnya', 'sebagai', 'sebagaimana', 'sebagainya', 'sebagian', 'sebaik', 'sebaik-baiknya', 'sebaiknya', 'sebaliknya', 'sebanyak', 'sebegini', 'sebegitu', 'sebelum', 'sebelumnya', 'sebenarnya', 'seberapa', 'sebesar', 'sebetulnya', 'sebisanya', 'sebuah', 'sebut', 'sebutlah', 'sebutnya', 'secara', 'secukupnya', 'sedang', 'sedangkan', 'sedemikian', 'sedikit', 'sedikitnya', 'seenaknya', 'segala', 'segalanya', 'segera', 'seharusnya', 'sehingga', 'seingat', 'sejak', 'sejauh', 'sejenak', 'sejumlah', 'sekadar', 'sekadarnya', 'sekali', 'sekali-kali', 'sekalian', 'sekaligus', 'sekalipun', 'sekarang', 'sekarang', 'sekecil', 'seketika', 'sekiranya', 'sekitar', 'sekitarnya', 'sekurang-kurangnya', 'sekurangnya', 'sela', 'selain', 'selaku', 'selalu', 'selama', 'selama-lamanya', 'selamanya', 'selanjutnya', 'seluruh', 'seluruhnya', 'semacam', 'semakin', 'semampu', 'semampunya', 'semasa', 'semasih', 'semata', 'semata-mata', 'semaunya', 'sementara', 'semisal', 'semisalnya', 'sempat', 'semua', 'semuanya', 'semula', 'sendiri', 'sendirian', 'sendirinya', 'seolah', 'seolah-olah', 'seorang', 'sepanjang', 'sepantasnya', 'sepantasnyalah', 'seperlunya', 'seperti', 'sepertinya', 'sepihak', 'sering', 'seringnya', 'serta', 'serupa', 'sesaat', 'sesama', 'sesampai', 'sesegera', 'sesekali', 'seseorang', 'sesuatu', 'sesuatunya', 'sesudah', 'sesudahnya', 'setelah', 'setempat', 'setengah', 'seterusnya', 'setiap', 'setiba', 'setibanya', 'setidak-tidaknya', 'setidaknya', 'setinggi', 'seusai', 'sewaktu', 'siap', 'siapa', 'siapakah', 'siapapun', 'sini', 'sinilah', 'soal', 'soalnya', 'suatu', 'sudah', 'sudahkah', 'sudahlah', 'supaya', 'tadi', 'tadinya', 'tahu', 'tahun', 'tak', 'tambah', 'tambahnya', 'tampak', 'tampaknya', 'tandas', 'tandasnya', 'tanpa', 'tanya', 'tanyakan', 'tanyanya', 'tapi', 'tegas', 'tegasnya', 'telah', 'tempat', 'tengah', 'tentang', 'tentu', 'tentulah', 'tentunya', 'tepat', 'terakhir', 'terasa', 'terbanyak', 'terdahulu', 'terdapat', 'terdiri', 'terhadap', 'terhadapnya', 'teringat', 'teringat-ingat', 'terjadi', 'terjadilah', 'terjadinya', 'terkira', 'terlalu', 'terlebih', 'terlihat', 'termasuk', 'ternyata', 'tersampaikan', 'tersebut', 'tersebutlah', 'tertentu', 'tertuju', 'terus', 'terutama', 'tetap', 'tetapi', 'tiap', 'tiba', 'tiba-tiba', 'tidak', 'tidakkah', 'tidaklah', 'tiga', 'tinggi', 'toh', 'tunjuk', 'turut', 'tutur', 'tuturnya', 'ucap', 'ucapnya', 'ujar', 'ujarnya', 'umum', 'umumnya', 'ungkap', 'ungkapnya', 'untuk', 'usah', 'usai', 'waduh', 'wah', 'wahai', 'waktu', 'waktunya', 'walau', 'walaupun', 'wong', 'yaitu', 'yakin', 'yakni', 'yang']\n"
     ]
    },
    {
     "data": {
      "text/plain": [
       "'wilayah kamu sudah bebas covid-19 cek 34 kab kota zona hijau baru jakarta - perintah rencana bakal terap laku batas giat masyarakat ppkm level 3 hitung 24 desember 2021 hingga 2 januari 2021 namun menteri sehat ri pasti bijak ppkm level 3 ini masih dalam tahap kaji turut direktur cegah dan kendali sakit tular langsung p2pml kemenkes ri dr siti nadia tarmizi ppkm level 3 bakal terap jika kasus covid-19 naik signifikan hal ini umum picu dengan tingkat mobilitas dan longgar protokol sehat https health detik com berita-detikhealth d-5816690 wilayah-kamu-sudah-bebas-covid-19-cek-34-kabkota-zona-hijau-terbaru'"
      ]
     },
     "execution_count": 9,
     "metadata": {},
     "output_type": "execute_result"
    }
   ],
   "source": [
    "#stop word nyari di github\n",
    "\n",
    "from nltk.tokenize import word_tokenize\n",
    "\n",
    "\n",
    "f = open(\"tala.txt\", \"r\") \n",
    "stopword_list = []\n",
    "for line in f:\n",
    "    stripped_line = line.strip()\n",
    "    line_list = stripped_line.split()\n",
    "    stopword_list.append(line_list[0])\n",
    "f.close()\n",
    "\n",
    "len(stopword_list) \n",
    "print(stopword_list)\n",
    "\n",
    "\n",
    "    #stemming process\n",
    "def stemming(text): \n",
    "    from Sastrawi.Stemmer.StemmerFactory import StemmerFactory\n",
    "\n",
    "    #create stemmer\n",
    "    factory = StemmerFactory()\n",
    "    stemmer = factory.create_stemmer()\n",
    "\n",
    "    output=stemmer.stem(text)\n",
    "    #s=stopworded(output)\n",
    "    return output\n",
    "\n",
    "stemming(berita1)\n"
   ]
  },
  {
   "cell_type": "code",
   "execution_count": 5,
   "id": "b9736afb",
   "metadata": {},
   "outputs": [
    {
     "name": "stdout",
     "output_type": "stream",
     "text": [
      "[['W', 'i', 'l', 'a', 'y', 'a', 'h', ' ', 'K', 'a', 'm', 'u', ' ', 'S', 'u', 'd', 'a', 'h', ' ', \"'\", 'B', 'e', 'b', 'a', 's', \"'\", ' ', 'C', 'O', 'V', 'I', 'D', '-', '1', '9', '?', ' ', 'C', 'e', 'k', ' ', '3', '4', ' ', 'K', 'a', 'b', '/', 'K', 'o', 't', 'a', ' ', 'Z', 'o', 'n', 'a', ' ', 'H', 'i', 'j', 'a', 'u', ' ', 'T', 'e', 'r', 'b', 'a', 'r', 'u', '\\n', '\\n', 'J', 'a', 'k', 'a', 'r', 't', 'a', ' ', '-', ' ', 'P', 'e', 'm', 'e', 'r', 'i', 'n', 't', 'a', 'h', ' ', 'r', 'e', 'n', 'c', 'a', 'n', 'a', 'n', 'y', 'a', ' ', 'b', 'a', 'k', 'a', 'l', ' ', 'm', 'e', 'n', 'e', 'r', 'a', 'p', 'k', 'a', 'n', ' ', 'P', 'e', 'm', 'b', 'e', 'r', 'l', 'a', 'k', 'u', 'a', 'n', ' ', 'P', 'e', 'm', 'b', 'a', 't', 'a', 's', 'a', 'n', ' ', 'K', 'e', 'g', 'i', 'a', 't', 'a', 'n', ' ', 'M', 'a', 's', 'y', 'a', 'r', 'a', 'k', 'a', 't', ' ', '(', 'P', 'P', 'K', 'M', ')', ' ', 'l', 'e', 'v', 'e', 'l', ' ', '3', ' ', 't', 'e', 'r', 'h', 'i', 't', 'u', 'n', 'g', ' ', '2', '4', ' ', 'D', 'e', 's', 'e', 'm', 'b', 'e', 'r', ' ', '2', '0', '2', '1', ' ', 'h', 'i', 'n', 'g', 'g', 'a', ' ', '2', ' ', 'J', 'a', 'n', 'u', 'a', 'r', 'i', ' ', '2', '0', '2', '1', '.', ' ', 'N', 'a', 'm', 'u', 'n', ',', ' ', 'K', 'e', 'm', 'e', 'n', 't', 'e', 'r', 'i', 'a', 'n', ' ', 'K', 'e', 's', 'e', 'h', 'a', 't', 'a', 'n', ' ', 'R', 'I', ' ', 'm', 'e', 'm', 'a', 's', 't', 'i', 'k', 'a', 'n', ' ', 'k', 'e', 'b', 'i', 'j', 'a', 'k', 'a', 'n', ' ', 'P', 'P', 'K', 'M', ' ', 'l', 'e', 'v', 'e', 'l', ' ', '3', ' ', 'i', 'n', 'i', ' ', 'm', 'a', 's', 'i', 'h', ' ', 'd', 'a', 'l', 'a', 'm', ' ', 't', 'a', 'h', 'a', 'p', ' ', 'k', 'a', 'j', 'i', 'a', 'n', '.', '\\n', 'M', 'e', 'n', 'u', 'r', 'u', 't', ' ', 'D', 'i', 'r', 'e', 'k', 't', 'u', 'r', ' ', 'P', 'e', 'n', 'c', 'e', 'g', 'a', 'h', 'a', 'n', ' ', 'd', 'a', 'n', ' ', 'P', 'e', 'n', 'g', 'e', 'n', 'd', 'a', 'l', 'i', 'a', 'n', ' ', 'P', 'e', 'n', 'y', 'a', 'k', 'i', 't', ' ', 'M', 'e', 'n', 'u', 'l', 'a', 'r', ' ', 'L', 'a', 'n', 'g', 's', 'u', 'n', 'g', ' ', '(', 'P', '2', 'P', 'M', 'L', ')', ' ', 'K', 'e', 'm', 'e', 'n', 'k', 'e', 's', ' ', 'R', 'I', ' ', 'd', 'r', ' ', 'S', 'i', 't', 'i', ' ', 'N', 'a', 'd', 'i', 'a', ' ', 'T', 'a', 'r', 'm', 'i', 'z', 'i', ',', ' ', 'P', 'P', 'K', 'M', ' ', 'l', 'e', 'v', 'e', 'l', ' ', '3', ' ', 'b', 'a', 'k', 'a', 'l', ' ', 'd', 'i', 't', 'e', 'r', 'a', 'p', 'k', 'a', 'n', ' ', 'j', 'i', 'k', 'a', ' ', 'k', 'a', 's', 'u', 's', ' ', 'C', 'O', 'V', 'I', 'D', '-', '1', '9', ' ', 'n', 'a', 'i', 'k', ' ', 's', 'i', 'g', 'n', 'i', 'f', 'i', 'k', 'a', 'n', '.', ' ', 'H', 'a', 'l', ' ', 'i', 'n', 'i', ' ', 'u', 'm', 'u', 'm', 'n', 'y', 'a', ' ', 'd', 'i', 'p', 'i', 'c', 'u', ' ', 'd', 'e', 'n', 'g', 'a', 'n', ' ', 'p', 'e', 'n', 'i', 'n', 'g', 'k', 'a', 't', 'a', 'n', ' ', 'm', 'o', 'b', 'i', 'l', 'i', 't', 'a', 's', ' ', 'd', 'a', 'n', ' ', 'p', 'e', 'l', 'o', 'n', 'g', 'g', 'a', 'r', 'a', 'n', ' ', 'p', 'r', 'o', 't', 'o', 'k', 'o', 'l', ' ', 'k', 'e', 's', 'e', 'h', 'a', 't', 'a', 'n', '.', '\\n', '\\n', 'h', 't', 't', 'p', 's', ':', '/', '/', 'h', 'e', 'a', 'l', 't', 'h', '.', 'd', 'e', 't', 'i', 'k', '.', 'c', 'o', 'm', '/', 'b', 'e', 'r', 'i', 't', 'a', '-', 'd', 'e', 't', 'i', 'k', 'h', 'e', 'a', 'l', 't', 'h', '/', 'd', '-', '5', '8', '1', '6', '6', '9', '0', '/', 'w', 'i', 'l', 'a', 'y', 'a', 'h', '-', 'k', 'a', 'm', 'u', '-', 's', 'u', 'd', 'a', 'h', '-', 'b', 'e', 'b', 'a', 's', '-', 'c', 'o', 'v', 'i', 'd', '-', '1', '9', '-', 'c', 'e', 'k', '-', '3', '4', '-', 'k', 'a', 'b', 'k', 'o', 't', 'a', '-', 'z', 'o', 'n', 'a', '-', 'h', 'i', 'j', 'a', 'u', '-', 't', 'e', 'r', 'b', 'a', 'r', 'u']]\n"
     ]
    }
   ],
   "source": [
    "from Sastrawi.StopWordRemover.StopWordRemoverFactory import StopWordRemoverFactory\n",
    "stop_factory = StopWordRemoverFactory()\n",
    "#more_stopword = [‘dengan’, ‘ia’,’bahwa’,’oleh’]\n",
    "data = stop_factory.get_stop_words()\n",
    "stopword = stop_factory.create_stop_word_remover()\n",
    "\n",
    "def stopworded(text):\n",
    "    \n",
    "    #text=word_tokenize(text)\n",
    "    token = [word for word in text if not word in data]\n",
    "    return token \n",
    "\n",
    "final=[]\n",
    "final.append(stopworded(berita1))\n",
    "print(final)"
   ]
  },
  {
   "cell_type": "code",
   "execution_count": 10,
   "id": "850b631b",
   "metadata": {},
   "outputs": [],
   "source": [
    "#cleaning\n",
    "\n",
    "for i in range(len(corpus)):\n",
    "    tokenisasi(corpus[i])\n",
    "\n",
    "for i in range(len(corpus)):\n",
    "    stemming(corpus[i])\n"
   ]
  },
  {
   "cell_type": "code",
   "execution_count": null,
   "id": "e414871b",
   "metadata": {},
   "outputs": [],
   "source": []
  },
  {
   "cell_type": "markdown",
   "id": "c3f3d6cb",
   "metadata": {},
   "source": [
    "### stop word nyari di github\n",
    "import numpy\n",
    "from nltk.tokenize import word_tokenize\n",
    "\n",
    "f = open(\"tala.txt\", \"r\")\n",
    "stopword_list = []\n",
    "for line in f:\n",
    "    stripped_line = line.strip()\n",
    "    line_list = stripped_line.split()\n",
    "    stopword_list.append(line_list[0])\n",
    "f.close()\n",
    "\n",
    "len(stopword_list)\n",
    "#print(stopword_list)\n",
    "\n",
    "def stopworded(text):\n",
    "    \n",
    "    \n",
    "    token = [word for word in text if not word in stopword_list]\n",
    "    return token \n",
    "\n",
    "\n",
    "\n",
    "\n",
    "# stemming process\n",
    "\n",
    "def stemming(text):\n",
    "    from Sastrawi.Stemmer.StemmerFactory import StemmerFactory\n",
    "\n",
    "# create stemmer\n",
    "    factory = StemmerFactory()\n",
    "    stemmer = factory.create_stemmer()\n",
    "   \n",
    "    output=stemmer.stem(text)\n",
    "    #s=stopworded(output)\n",
    "    return output\n",
    "    \n",
    "stemming(berita2)"
   ]
  },
  {
   "cell_type": "code",
   "execution_count": null,
   "id": "5e91e534",
   "metadata": {},
   "outputs": [],
   "source": [
    "if isinstance(corpus, list):\n",
    "    print(\"your object is a list !\")\n",
    "else:\n",
    "    print(\"your object is not a list\")"
   ]
  },
  {
   "cell_type": "code",
   "execution_count": null,
   "id": "abb574c2",
   "metadata": {},
   "outputs": [],
   "source": []
  },
  {
   "cell_type": "code",
   "execution_count": null,
   "id": "3015598c",
   "metadata": {},
   "outputs": [],
   "source": [
    "#cleaning\n",
    "\n",
    "a=[]\n",
    "b=[]\n",
    "#c=[]\n",
    "for i in range(len(corpus)):\n",
    "    \n",
    "    #a.append(stemming(corpus[i]))\n",
    "    a.append((stemming(corpus[i])))\n",
    "    #(a[i])\n",
    "print(a)\n",
    "    \n"
   ]
  },
  {
   "cell_type": "code",
   "execution_count": 39,
   "id": "e1c77731",
   "metadata": {},
   "outputs": [
    {
     "name": "stdout",
     "output_type": "stream",
     "text": [
      "5\n"
     ]
    }
   ],
   "source": [
    "print(len(a))"
   ]
  },
  {
   "cell_type": "code",
   "execution_count": null,
   "id": "3676de28",
   "metadata": {},
   "outputs": [],
   "source": [
    "inverted_index = {}\n",
    "for i in range(len(a)):\n",
    "        for item in a[i]:\n",
    "             print(item)\n",
    "#             #item = stemming(item)\n",
    "            \n",
    "#             if item not in inverted_index:\n",
    "#                 inverted_index[item] = []\n",
    "#             if (item in inverted_index) and ((i+1) not in inverted_index[item]):\n",
    "#                 inverted_index[item].append(i+1)\n",
    "print(inverted_index)\n",
    "\n"
   ]
  },
  {
   "cell_type": "code",
   "execution_count": null,
   "id": "65c929c3",
   "metadata": {},
   "outputs": [],
   "source": []
  },
  {
   "cell_type": "code",
   "execution_count": null,
   "id": "3b52954e",
   "metadata": {},
   "outputs": [],
   "source": [
    "#urutannya, ntar coba lagi\n",
    "c=[]\n",
    "a=stemming(berita1)\n",
    "b=tokenisasi(a)\n",
    "c=stopworded(b)\n",
    "print(c)"
   ]
  },
  {
   "cell_type": "code",
   "execution_count": null,
   "id": "6e1428f5",
   "metadata": {},
   "outputs": [],
   "source": [
    "#corpus isinya tokenized \n",
    "\n",
    "inverted_index = {}\n",
    "for i in range(len(a)):\n",
    "        for item in a[i]:\n",
    "            item = stemming(item)\n",
    "            \n",
    "            if item not in inverted_index:\n",
    "                inverted_index[item] = []\n",
    "            if (item in inverted_index) and ((i+1) not in inverted_index[item]):\n",
    "                inverted_index[item].append(i+1)\n",
    "print(inverted_index)"
   ]
  },
  {
   "cell_type": "code",
   "execution_count": null,
   "id": "16fb8bc0",
   "metadata": {},
   "outputs": [],
   "source": []
  }
 ],
 "metadata": {
  "kernelspec": {
   "display_name": "Python 3 (ipykernel)",
   "language": "python",
   "name": "python3"
  },
  "language_info": {
   "codemirror_mode": {
    "name": "ipython",
    "version": 3
   },
   "file_extension": ".py",
   "mimetype": "text/x-python",
   "name": "python",
   "nbconvert_exporter": "python",
   "pygments_lexer": "ipython3",
   "version": "3.9.12"
  }
 },
 "nbformat": 4,
 "nbformat_minor": 5
}
