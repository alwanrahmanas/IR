{
 "cells": [
  {
   "cell_type": "code",
   "execution_count": 58,
   "id": "9007b495",
   "metadata": {},
   "outputs": [
    {
     "name": "stdout",
     "output_type": "stream",
     "text": [
      "{'doc1': 'kembang sistem informasi jadwal', 'doc2': 'kembang model analisis sentimen berita', 'doc3': 'analisis sistem input output', 'doc4': 'kembang sistem informasi akademik universitas', 'doc5': 'kembang sistem cari berita ekonomi', 'doc6': 'analisis sistem neraca nasional', 'doc7': 'kembang sistem informasi layan statistik', 'doc8': 'kembang sistem cari skripsi di universitas', 'doc9': 'analisis sentimen publik hadap perintah', 'doc10': 'kembang model klasifikasi sentimen berita'}\n"
     ]
    }
   ],
   "source": [
    "#function tokenisasi\n",
    "def tokenisasi(text):\n",
    "    tokens = text.split(\" \")\n",
    "    return tokens\n",
    "\n",
    "#function stemming\n",
    "def stemming(text):\n",
    "    from Sastrawi.Stemmer.StemmerFactory import StemmerFactory\n",
    "    # create stemmer\n",
    "    factory = StemmerFactory()\n",
    "    stemmer = factory.create_stemmer()\n",
    "    # stemming process\n",
    "    output = stemmer.stem(text)\n",
    "    return output\n",
    "\n",
    "#function stemming sentence\n",
    "def stemming_sentence(text):\n",
    "    output = \"\"\n",
    "    for token in tokenisasi(text):\n",
    "        output = output + stemming(token) + \" \"\n",
    "    return output[:-1]\n",
    "\n",
    "doc_dict_raw = {}\n",
    "doc_dict_raw['doc1']=\"pengembangan sistem informasi penjadwalan\"\n",
    "doc_dict_raw['doc2']=\"pengembangan model analisis sentimen berita\"\n",
    "doc_dict_raw['doc3'] = \"analisis sistem input output\"\n",
    "doc_dict_raw['doc4'] = \"pengembangan sistem informasi akademik universitas\"\n",
    "doc_dict_raw['doc5'] = \"pengembangan sistem cari berita ekonomi\"\n",
    "doc_dict_raw['doc6'] = \"analisis sistem neraca nasional\"\n",
    "doc_dict_raw['doc7'] = \"pengembangan sistem informasi layanan statistik\"\n",
    "doc_dict_raw['doc8'] = \"pengembangan sistem pencarian skripsi di universitas\"\n",
    "doc_dict_raw['doc9'] = \"analisis sentimen publik terhadap pemerintah\"\n",
    "doc_dict_raw['doc10'] = \"pengembangan model klasifikasi sentimen berita\"\n",
    "\n",
    "doc_dict ={}\n",
    "for doc_id,doc in doc_dict_raw.items():\n",
    "    doc_dict[doc_id]=stemming_sentence(doc)\n",
    "print(doc_dict)\n"
   ]
  },
  {
   "cell_type": "code",
   "execution_count": 59,
   "id": "53764c81",
   "metadata": {},
   "outputs": [
    {
     "name": "stdout",
     "output_type": "stream",
     "text": [
      "kembang\n",
      "sistem\n",
      "informasi\n",
      "jadwal\n",
      "kembang\n",
      "model\n",
      "analisis\n",
      "sentimen\n",
      "berita\n",
      "analisis\n",
      "sistem\n",
      "input\n",
      "output\n",
      "kembang\n",
      "sistem\n",
      "informasi\n",
      "akademik\n",
      "universitas\n",
      "kembang\n",
      "sistem\n",
      "cari\n",
      "berita\n",
      "ekonomi\n",
      "analisis\n",
      "sistem\n",
      "neraca\n",
      "nasional\n",
      "kembang\n",
      "sistem\n",
      "informasi\n",
      "layan\n",
      "statistik\n",
      "kembang\n",
      "sistem\n",
      "cari\n",
      "skripsi\n",
      "di\n",
      "universitas\n",
      "analisis\n",
      "sentimen\n",
      "publik\n",
      "hadap\n",
      "perintah\n",
      "kembang\n",
      "model\n",
      "klasifikasi\n",
      "sentimen\n",
      "berita\n",
      "{'doc1': 'kembang sistem informasi jadwal', 'doc2': 'kembang model analisis sentimen berita', 'doc3': 'analisis sistem input output', 'doc4': 'kembang sistem informasi akademik universitas', 'doc5': 'kembang sistem cari berita ekonomi', 'doc6': 'analisis sistem neraca nasional', 'doc7': 'kembang sistem informasi layan statistik', 'doc8': 'kembang sistem cari skripsi di universitas', 'doc9': 'analisis sentimen publik hadap perintah', 'doc10': 'kembang model klasifikasi sentimen berita'}\n"
     ]
    }
   ],
   "source": [
    "vocab = []\n",
    "inverted_index= {}\n",
    "for doc_id, doc in doc_dict.items():\n",
    "    for token in tokenisasi(doc):\n",
    "        print(token)\n",
    "        if token not in vocab:\n",
    "            vocab.append(token)\n",
    "            inverted_index[token] = []\n",
    "        if token in inverted_index:\n",
    "            if doc_id not in inverted_index[token]:\n",
    "                inverted_index[token].append(doc_id)\n",
    "#print(vocab)\n",
    "\n",
    "print(doc_dict)"
   ]
  },
  {
   "cell_type": "code",
   "execution_count": 60,
   "id": "6ed0f644",
   "metadata": {},
   "outputs": [
    {
     "name": "stdout",
     "output_type": "stream",
     "text": [
      "10\n"
     ]
    }
   ],
   "source": [
    "print(len(doc_dict))"
   ]
  },
  {
   "cell_type": "code",
   "execution_count": 61,
   "id": "07f2bb73",
   "metadata": {},
   "outputs": [
    {
     "name": "stdout",
     "output_type": "stream",
     "text": [
      "{'kembang': 0, 'sistem': 1, 'informasi': 1, 'jadwal': 0, 'model': 0, 'analisis': 0, 'sentimen': 0, 'berita': 0, 'input': 0, 'output': 0, 'akademik': 0, 'universitas': 0, 'cari': 0, 'ekonomi': 0, 'neraca': 0, 'nasional': 0, 'layan': 0, 'statistik': 1, 'skripsi': 0, 'di': 0, 'publik': 0, 'hadap': 0, 'perintah': 0, 'klasifikasi': 0}\n"
     ]
    }
   ],
   "source": [
    "query = \"sistem informasi statistik\"\n",
    "def termFrequency(vocab, query):\n",
    "    tf_query = {}\n",
    "    for word in vocab:\n",
    "        tf_query[word] = query.count(word)\n",
    "    return tf_query\n",
    "tf_query = termFrequency(vocab, query)\n",
    "print(tf_query)"
   ]
  },
  {
   "cell_type": "code",
   "execution_count": 62,
   "id": "fe12e508",
   "metadata": {},
   "outputs": [],
   "source": [
    "def wordDocFre(vocab,doc_dict):\n",
    "    df={}\n",
    "    for word in vocab:\n",
    "        frq = 0\n",
    "        for doc in doc_dict.values():\n",
    "            if word in tokenisasi(doc):\n",
    "                frq=frq+1\n",
    "        df[word]=frq \n",
    "    return df"
   ]
  },
  {
   "cell_type": "code",
   "execution_count": 63,
   "id": "498e47fa",
   "metadata": {},
   "outputs": [],
   "source": [
    "def tfidf(vocab,tf,idf_scr,doc_dict):\n",
    "    tf_idf_scr={}\n",
    "    for doc_id in doc_dict.keys():\n",
    "        tf_idf_scr[doc_id]={}\n",
    "    for word in vocab:\n",
    "        for doc_id, doc in doc_dict.items():\n",
    "            tf_idf_scr[doc_id][word] = tf[doc_id][word]*idf_scr[word]\n",
    "    return tf_idf_scr"
   ]
  },
  {
   "cell_type": "code",
   "execution_count": 64,
   "id": "dd17fbbb",
   "metadata": {},
   "outputs": [],
   "source": [
    "def termFrequencyInDoc(vocab,doc_dict):\n",
    "    tf_docs = {}\n",
    "    for doc_id in doc_dict.keys():\n",
    "        tf_docs[doc_id]={}\n",
    "    \n",
    "    for word in vocab:\n",
    "        for doc_id, doc in doc_dict.items():\n",
    "            tf_docs[doc_id][word]=doc.count(word)\n",
    "    return tf_docs"
   ]
  },
  {
   "cell_type": "code",
   "execution_count": 65,
   "id": "bf6c0bbc",
   "metadata": {},
   "outputs": [],
   "source": [
    "def inverseDocFre(vocab,doc_fre,length):\n",
    "    idf={}\n",
    "    for word in vocab:\n",
    "        idf[word]=idf[word]=1+np.log10((length+1)/(doc_fre[word]+1))\n",
    "    return idf"
   ]
  },
  {
   "cell_type": "code",
   "execution_count": 66,
   "id": "a54623e2",
   "metadata": {
    "scrolled": true
   },
   "outputs": [
    {
     "name": "stdout",
     "output_type": "stream",
     "text": [
      "{'kembang': 7, 'sistem': 7, 'informasi': 3, 'jadwal': 1, 'model': 2, 'analisis': 4, 'sentimen': 3, 'berita': 3, 'input': 1, 'output': 1, 'akademik': 1, 'universitas': 2, 'cari': 2, 'ekonomi': 1, 'neraca': 1, 'nasional': 1, 'layan': 1, 'statistik': 1, 'skripsi': 1, 'di': 1, 'publik': 1, 'hadap': 1, 'perintah': 1, 'klasifikasi': 1}\n",
      "{'kembang': 1.1383026981662814, 'sistem': 1.1383026981662814, 'informasi': 1.4393326938302626, 'jadwal': 1.7403626894942439, 'model': 1.5642714304385625, 'analisis': 1.3424226808222062, 'sentimen': 1.4393326938302626, 'berita': 1.4393326938302626, 'input': 1.7403626894942439, 'output': 1.7403626894942439, 'akademik': 1.7403626894942439, 'universitas': 1.5642714304385625, 'cari': 1.5642714304385625, 'ekonomi': 1.7403626894942439, 'neraca': 1.7403626894942439, 'nasional': 1.7403626894942439, 'layan': 1.7403626894942439, 'statistik': 1.7403626894942439, 'skripsi': 1.7403626894942439, 'di': 1.7403626894942439, 'publik': 1.7403626894942439, 'hadap': 1.7403626894942439, 'perintah': 1.7403626894942439, 'klasifikasi': 1.7403626894942439}\n",
      "[[0.        ]\n",
      " [1.1383027 ]\n",
      " [1.43933269]\n",
      " [0.        ]\n",
      " [0.        ]\n",
      " [0.        ]\n",
      " [0.        ]\n",
      " [0.        ]\n",
      " [0.        ]\n",
      " [0.        ]\n",
      " [0.        ]\n",
      " [0.        ]\n",
      " [0.        ]\n",
      " [0.        ]\n",
      " [0.        ]\n",
      " [0.        ]\n",
      " [0.        ]\n",
      " [1.74036269]\n",
      " [0.        ]\n",
      " [0.        ]\n",
      " [0.        ]\n",
      " [0.        ]\n",
      " [0.        ]\n",
      " [0.        ]]\n"
     ]
    }
   ],
   "source": [
    "import numpy as np\n",
    "\n",
    "#menghitung df yang merupakan freq kata pada suatu dokumen \n",
    "print(wordDocFre(vocab,doc_dict))\n",
    "print(inverseDocFre(vocab,wordDocFre(vocab,doc_dict),len(doc_dict)))\n",
    "idf = inverseDocFre(vocab,wordDocFre(vocab,doc_dict),len(doc_dict))\n",
    "\n",
    "# Term - Query Matrix\n",
    "TQ = np.zeros((len(vocab), 1)) #hanya 1 query\n",
    "length=len(doc_dict)\n",
    "#idf = inverseDocFre(vocab,doc_dict,length)\n",
    "for word in vocab:\n",
    "    ind1 = vocab.index(word)\n",
    "    TQ[ind1][0] = tf_query[word]*idf[word]\n",
    "print(TQ)\n",
    "\n",
    "#term document\n",
    "tf_idf = tfidf(vocab, termFrequencyInDoc(vocab,doc_dict),inverseDocFre(vocab,wordDocFre(vocab,doc_dict),len(doc_dict)),doc_dict)\n",
    "\n"
   ]
  },
  {
   "cell_type": "code",
   "execution_count": 67,
   "id": "b3f967cc",
   "metadata": {},
   "outputs": [
    {
     "name": "stdout",
     "output_type": "stream",
     "text": [
      "[[1.1383027  1.1383027  0.         1.1383027  1.1383027  0.\n",
      "  1.1383027  1.1383027  0.         1.1383027 ]\n",
      " [1.1383027  0.         1.1383027  1.1383027  1.1383027  1.1383027\n",
      "  1.1383027  1.1383027  0.         0.        ]\n",
      " [1.43933269 0.         0.         1.43933269 0.         0.\n",
      "  1.43933269 0.         0.         0.        ]\n",
      " [1.74036269 0.         0.         0.         0.         0.\n",
      "  0.         0.         0.         0.        ]\n",
      " [0.         1.56427143 0.         0.         0.         0.\n",
      "  0.         0.         0.         1.56427143]\n",
      " [0.         1.34242268 1.34242268 0.         0.         1.34242268\n",
      "  0.         0.         1.34242268 0.        ]\n",
      " [0.         1.43933269 0.         0.         0.         0.\n",
      "  0.         0.         1.43933269 1.43933269]\n",
      " [0.         1.43933269 0.         0.         1.43933269 0.\n",
      "  0.         0.         0.         1.43933269]\n",
      " [0.         0.         1.74036269 0.         0.         0.\n",
      "  0.         0.         0.         0.        ]\n",
      " [0.         0.         1.74036269 0.         0.         0.\n",
      "  0.         0.         0.         0.        ]\n",
      " [0.         0.         0.         1.74036269 0.         0.\n",
      "  0.         0.         0.         0.        ]\n",
      " [0.         0.         0.         1.56427143 0.         0.\n",
      "  0.         1.56427143 0.         0.        ]\n",
      " [0.         0.         0.         0.         1.56427143 0.\n",
      "  0.         1.56427143 0.         0.        ]\n",
      " [0.         0.         0.         0.         1.74036269 0.\n",
      "  0.         0.         0.         0.        ]\n",
      " [0.         0.         0.         0.         0.         1.74036269\n",
      "  0.         0.         0.         0.        ]\n",
      " [0.         0.         0.         0.         0.         1.74036269\n",
      "  0.         0.         0.         0.        ]\n",
      " [0.         0.         0.         0.         0.         0.\n",
      "  1.74036269 0.         0.         0.        ]\n",
      " [0.         0.         0.         0.         0.         0.\n",
      "  1.74036269 0.         0.         0.        ]\n",
      " [0.         0.         0.         0.         0.         0.\n",
      "  0.         1.74036269 0.         0.        ]\n",
      " [0.         0.         0.         0.         0.         0.\n",
      "  0.         1.74036269 0.         0.        ]\n",
      " [0.         0.         0.         0.         0.         0.\n",
      "  0.         0.         1.74036269 0.        ]\n",
      " [0.         0.         0.         0.         0.         0.\n",
      "  0.         0.         1.74036269 0.        ]\n",
      " [0.         0.         0.         0.         0.         0.\n",
      "  0.         0.         1.74036269 0.        ]\n",
      " [0.         0.         0.         0.         0.         0.\n",
      "  0.         0.         0.         1.74036269]]\n"
     ]
    }
   ],
   "source": [
    "TD = np.zeros((len(vocab),len(doc_dict)))\n",
    "for word in vocab:\n",
    "    for doc_id, doc in tf_idf.items():\n",
    "        ind1 = vocab.index(word)\n",
    "        ind2 = list(tf_idf.keys()).index(doc_id)\n",
    "        TD[ind1][ind2] = tf_idf[doc_id][word]\n",
    "print(TD)"
   ]
  },
  {
   "cell_type": "code",
   "execution_count": 68,
   "id": "786aef37",
   "metadata": {},
   "outputs": [],
   "source": [
    "import math\n",
    "def cosine_sim(vec1,vec2):\n",
    "    vec1=list(vec1)\n",
    "    vec2=list(vec2)\n",
    "    dot_prod=0\n",
    "    for i, v in enumerate(vec1):\n",
    "        dot_prod+=v*vec2[i]\n",
    "    mag_1=math.sqrt(sum([x**2 for x in vec1]))\n",
    "    mag_2=math.sqrt(sum([x**2 for x in vec2]))\n",
    "    return dot_prod/(mag_1 * mag_2)\n"
   ]
  },
  {
   "cell_type": "code",
   "execution_count": 69,
   "id": "43613a09",
   "metadata": {},
   "outputs": [],
   "source": [
    "from collections import OrderedDict\n",
    "def exact_top_k(doc_dict, TD, q, k):\n",
    "    relevance_scores = {}\n",
    "    i = 0\n",
    "    for doc_id in doc_dict.keys():\n",
    "        relevance_scores[doc_id] = cosine_sim(q, TD[:, i])\n",
    "        i = i + 1\n",
    "        \n",
    "    sorted_value = OrderedDict(sorted(relevance_scores.items(), key=lambda x: x[1], reverse = True))\n",
    "    top_k = {j: sorted_value[j] for j in list(sorted_value)[:k]}\n",
    "    return top_k\n",
    "top_2 = exact_top_k(doc_dict, TD, TQ[:, 0], 2)\n",
    "top_5 = exact_top_k(doc_dict, TD, TQ[:, 0], 5)"
   ]
  },
  {
   "cell_type": "code",
   "execution_count": 78,
   "id": "d970d39e",
   "metadata": {},
   "outputs": [],
   "source": [
    "query_vecs=TQ.transpose()\n",
    "rel_vecs_id=[\"doc1\",\"doc4\",\"doc5\",\"doc7\",\"doc8\"]\n",
    "nrel_vecs_id=[\"doc2\",\"doc3\",\"doc6\",\"doc9\",\"doc10\"]\n",
    "rel_vecs=[]\n",
    "for doc in rel_vecs_id:\n",
    "    rel_vecs.append(DT[doc_ids.index(doc),:])\n",
    "nrel_vecs=[]\n",
    "for doc in nrel_vecs_id:\n",
    "    nrel_vecs.append(DT[doc_ids.index(doc),:])"
   ]
  },
  {
   "cell_type": "code",
   "execution_count": 76,
   "id": "159174fa",
   "metadata": {
    "scrolled": true
   },
   "outputs": [
    {
     "name": "stdout",
     "output_type": "stream",
     "text": [
      "[[1.1383027  1.1383027  1.43933269 1.74036269 0.         0.\n",
      "  0.         0.         0.         0.         0.         0.\n",
      "  0.         0.         0.         0.         0.         0.\n",
      "  0.         0.         0.         0.         0.         0.        ]\n",
      " [1.1383027  0.         0.         0.         1.56427143 1.34242268\n",
      "  1.43933269 1.43933269 0.         0.         0.         0.\n",
      "  0.         0.         0.         0.         0.         0.\n",
      "  0.         0.         0.         0.         0.         0.        ]\n",
      " [0.         1.1383027  0.         0.         0.         1.34242268\n",
      "  0.         0.         1.74036269 1.74036269 0.         0.\n",
      "  0.         0.         0.         0.         0.         0.\n",
      "  0.         0.         0.         0.         0.         0.        ]\n",
      " [1.1383027  1.1383027  1.43933269 0.         0.         0.\n",
      "  0.         0.         0.         0.         1.74036269 1.56427143\n",
      "  0.         0.         0.         0.         0.         0.\n",
      "  0.         0.         0.         0.         0.         0.        ]\n",
      " [1.1383027  1.1383027  0.         0.         0.         0.\n",
      "  0.         1.43933269 0.         0.         0.         0.\n",
      "  1.56427143 1.74036269 0.         0.         0.         0.\n",
      "  0.         0.         0.         0.         0.         0.        ]\n",
      " [0.         1.1383027  0.         0.         0.         1.34242268\n",
      "  0.         0.         0.         0.         0.         0.\n",
      "  0.         0.         1.74036269 1.74036269 0.         0.\n",
      "  0.         0.         0.         0.         0.         0.        ]\n",
      " [1.1383027  1.1383027  1.43933269 0.         0.         0.\n",
      "  0.         0.         0.         0.         0.         0.\n",
      "  0.         0.         0.         0.         1.74036269 1.74036269\n",
      "  0.         0.         0.         0.         0.         0.        ]\n",
      " [1.1383027  1.1383027  0.         0.         0.         0.\n",
      "  0.         0.         0.         0.         0.         1.56427143\n",
      "  1.56427143 0.         0.         0.         0.         0.\n",
      "  1.74036269 1.74036269 0.         0.         0.         0.        ]\n",
      " [0.         0.         0.         0.         0.         1.34242268\n",
      "  1.43933269 0.         0.         0.         0.         0.\n",
      "  0.         0.         0.         0.         0.         0.\n",
      "  0.         0.         1.74036269 1.74036269 1.74036269 0.        ]\n",
      " [1.1383027  0.         0.         0.         1.56427143 0.\n",
      "  1.43933269 1.43933269 0.         0.         0.         0.\n",
      "  0.         0.         0.         0.         0.         0.\n",
      "  0.         0.         0.         0.         0.         1.74036269]]\n",
      "[[ 1.10277251 -0.84211635]]\n",
      "[[ 1.674812   -0.87041409]\n",
      " [ 1.90082714  2.03259184]\n",
      " [ 1.01677258  0.25034005]\n",
      " [ 2.07214749 -1.29201546]\n",
      " [ 2.08433982 -0.1838961 ]\n",
      " [ 1.01677258  0.25034005]\n",
      " [ 1.88736399 -1.08242562]\n",
      " [ 2.29505316 -1.37236284]\n",
      " [ 0.86908445  2.28621673]\n",
      " [ 1.79303872  1.86906526]]\n"
     ]
    },
    {
     "data": {
      "image/png": "[encoded data removed]",
      "text/plain": [
       "<Figure size 720x576 with 1 Axes>"
      ]
     },
     "metadata": {
      "needs_background": "light"
     },
     "output_type": "display_data"
    }
   ],
   "source": [
    "from sklearn.decomposition import TruncatedSVD\n",
    "import matplotlib.pyplot as plt\n",
    "\n",
    "DT = TD.transpose()\n",
    "print(DT)\n",
    "model=TruncatedSVD(n_components=2,random_state=7).fit(DT)\n",
    "DT_reduced=model.transform(DT)\n",
    "QT_reduced = model.transform(TQ.transpose())\n",
    "print(QT_reduced)\n",
    "print(DT_reduced)\n",
    "\n",
    "#plot\n",
    "plt.figure(figsize=(10,8))\n",
    "plt.scatter(QT_reduced[:,0],QT_reduced[:,1],color=[\"red\"])\n",
    "doc_ids=list(doc_dict.keys())\n",
    "for i, txt in enumerate(doc_ids):\n",
    "    plt.annotate(txt,(DT_reduced[i,0],DT_reduced[i,1]))\n",
    "    if txt in rel_vecs_id:\n",
    "        plt.scatter(DT_reduced[i,0],DT_reduced[i,1],marker=\"o\",color=[\"purple\"])\n",
    "    elif txt in nrel_vecs_id:\n",
    "        plt.scatter(DT_reduced[i,0],DT_reduced[i,1],marker=\"x\",color=[\"blue\"])\n",
    "plt.annotate(\"query\",(QT_reduced[0,0],QT_reduced[0,1]))\n",
    "plt.show()"
   ]
  },
  {
   "cell_type": "code",
   "execution_count": 79,
   "id": "c6a01402",
   "metadata": {},
   "outputs": [],
   "source": [
    "query_vecs=TQ.transpose()\n",
    "alpha=1\n",
    "beta=0.75\n",
    "gamma=0.15\n",
    "#update query vectors with rocchio algorithm\n",
    "query_vecs=alpha * query_vecs + beta * np.mean(rel_vecs,axis=0)-gamma * np.mean(nrel_vecs,axis=0)\n",
    "query_vecs[query_vecs<0]=0"
   ]
  },
  {
   "cell_type": "code",
   "execution_count": null,
   "id": "2ca1de1c",
   "metadata": {},
   "outputs": [],
   "source": [
    "QT1_reduced = model.transform(query_vecs)\n",
    "plt.figure(figsize=)"
   ]
  }
 ],
 "metadata": {
  "kernelspec": {
   "display_name": "Python 3 (ipykernel)",
   "language": "python",
   "name": "python3"
  },
  "language_info": {
   "codemirror_mode": {
    "name": "ipython",
    "version": 3
   },
   "file_extension": ".py",
   "mimetype": "text/x-python",
   "name": "python",
   "nbconvert_exporter": "python",
   "pygments_lexer": "ipython3",
   "version": "3.9.12"
  }
 },
 "nbformat": 4,
 "nbformat_minor": 5
}
