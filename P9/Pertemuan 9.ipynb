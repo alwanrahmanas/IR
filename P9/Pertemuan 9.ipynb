{
 "cells": [
  {
   "cell_type": "code",
   "execution_count": null,
   "id": "256d648e",
   "metadata": {},
   "outputs": [],
   "source": []
  },
  {
   "cell_type": "code",
   "execution_count": 18,
   "id": "5084f9a0",
   "metadata": {},
   "outputs": [],
   "source": [
    "#function tokenisasi\n",
    "def tokenisasi(text):\n",
    "    tokens = text.split(\" \")\n",
    "    return tokens\n",
    "\n",
    "#function stemming\n",
    "def stemming(text):\n",
    "    from Sastrawi.Stemmer.StemmerFactory import StemmerFactory\n",
    "    # create stemmer\n",
    "    factory = StemmerFactory()\n",
    "    stemmer = factory.create_stemmer()\n",
    "    # stemming process\n",
    "    output = stemmer.stem(text)\n",
    "    return output\n",
    "\n",
    "#function stemming sentence\n",
    "def stemming_sentence(text):\n",
    "    output = \"\"\n",
    "    for token in tokenisasi(text):\n",
    "        output = output + stemming(token) + \" \"\n",
    "    return output[:-1]\n",
    "\n",
    "doc_dict_raw = {}\n",
    "doc_dict_raw['doc1']=\"pengembangan sistem informasi penjadwalan\"\n",
    "doc_dict_raw['doc2']=\"pengembangan model analisis sentimen berita\"\n",
    "doc_dict_raw['doc3'] = \"analisis sistem input output\"\n",
    "doc_dict_raw['doc4'] = \"pengembangan sistem informasi akademik universitas\"\n",
    "doc_dict_raw['doc5'] = \"pengembangan sistem cari berita ekonomi\"\n",
    "doc_dict_raw['doc6'] = \"analisis sistem neraca nasional\"\n",
    "doc_dict_raw['doc7'] = \"pengembangan sistem informasi layanan statistik\"\n",
    "doc_dict_raw['doc8'] = \"pengembangan sistem pencarian skripsi di universitas\"\n",
    "doc_dict_raw['doc9'] = \"analisis sentimen publik terhadap pemerintah\"\n",
    "doc_dict_raw['doc10'] = \"pengembangan model klasifikasi sentimen berita\"\n",
    "\n",
    "\n",
    "doc_dict = {}\n",
    "for doc_id,doc in doc_dict_raw.items():\n",
    "    doc_dict[doc_id] = stemming_sentence(doc)\n",
    "#tokenized_corpus = [tokenisasi(doc_dict[doc_id]) for doc_id in doc_dict]\n",
    "query = \"sistem informasi statistik\"\n",
    "tokenized_query = tokenisasi(query)\n"
   ]
  },
  {
   "cell_type": "code",
   "execution_count": 20,
   "id": "4d88fb3b",
   "metadata": {},
   "outputs": [
    {
     "name": "stdout",
     "output_type": "stream",
     "text": [
      "{'doc1': 0.25}\n",
      "{'doc1': 0.0625}\n",
      "{'doc1': 0.0}\n",
      "{'doc1': 0.0, 'doc2': 0.0}\n",
      "{'doc1': 0.0, 'doc2': 0.0}\n",
      "{'doc1': 0.0, 'doc2': 0.0}\n",
      "{'doc1': 0.0, 'doc2': 0.0, 'doc3': 0.25}\n",
      "{'doc1': 0.0, 'doc2': 0.0, 'doc3': 0.0}\n",
      "{'doc1': 0.0, 'doc2': 0.0, 'doc3': 0.0}\n",
      "{'doc1': 0.0, 'doc2': 0.0, 'doc3': 0.0, 'doc4': 0.2}\n",
      "{'doc1': 0.0, 'doc2': 0.0, 'doc3': 0.0, 'doc4': 0.04}\n",
      "{'doc1': 0.0, 'doc2': 0.0, 'doc3': 0.0, 'doc4': 0.0}\n",
      "{'doc1': 0.0, 'doc2': 0.0, 'doc3': 0.0, 'doc4': 0.0, 'doc5': 0.2}\n",
      "{'doc1': 0.0, 'doc2': 0.0, 'doc3': 0.0, 'doc4': 0.0, 'doc5': 0.0}\n",
      "{'doc1': 0.0, 'doc2': 0.0, 'doc3': 0.0, 'doc4': 0.0, 'doc5': 0.0}\n",
      "{'doc1': 0.0, 'doc2': 0.0, 'doc3': 0.0, 'doc4': 0.0, 'doc5': 0.0, 'doc6': 0.25}\n",
      "{'doc1': 0.0, 'doc2': 0.0, 'doc3': 0.0, 'doc4': 0.0, 'doc5': 0.0, 'doc6': 0.0}\n",
      "{'doc1': 0.0, 'doc2': 0.0, 'doc3': 0.0, 'doc4': 0.0, 'doc5': 0.0, 'doc6': 0.0}\n",
      "{'doc1': 0.0, 'doc2': 0.0, 'doc3': 0.0, 'doc4': 0.0, 'doc5': 0.0, 'doc6': 0.0, 'doc7': 0.2}\n",
      "{'doc1': 0.0, 'doc2': 0.0, 'doc3': 0.0, 'doc4': 0.0, 'doc5': 0.0, 'doc6': 0.0, 'doc7': 0.04}\n",
      "{'doc1': 0.0, 'doc2': 0.0, 'doc3': 0.0, 'doc4': 0.0, 'doc5': 0.0, 'doc6': 0.0, 'doc7': 0.008}\n",
      "{'doc1': 0.0, 'doc2': 0.0, 'doc3': 0.0, 'doc4': 0.0, 'doc5': 0.0, 'doc6': 0.0, 'doc7': 0.008, 'doc8': 0.16666666666666666}\n",
      "{'doc1': 0.0, 'doc2': 0.0, 'doc3': 0.0, 'doc4': 0.0, 'doc5': 0.0, 'doc6': 0.0, 'doc7': 0.008, 'doc8': 0.0}\n",
      "{'doc1': 0.0, 'doc2': 0.0, 'doc3': 0.0, 'doc4': 0.0, 'doc5': 0.0, 'doc6': 0.0, 'doc7': 0.008, 'doc8': 0.0}\n",
      "{'doc1': 0.0, 'doc2': 0.0, 'doc3': 0.0, 'doc4': 0.0, 'doc5': 0.0, 'doc6': 0.0, 'doc7': 0.008, 'doc8': 0.0, 'doc9': 0.0}\n",
      "{'doc1': 0.0, 'doc2': 0.0, 'doc3': 0.0, 'doc4': 0.0, 'doc5': 0.0, 'doc6': 0.0, 'doc7': 0.008, 'doc8': 0.0, 'doc9': 0.0}\n",
      "{'doc1': 0.0, 'doc2': 0.0, 'doc3': 0.0, 'doc4': 0.0, 'doc5': 0.0, 'doc6': 0.0, 'doc7': 0.008, 'doc8': 0.0, 'doc9': 0.0}\n",
      "{'doc1': 0.0, 'doc2': 0.0, 'doc3': 0.0, 'doc4': 0.0, 'doc5': 0.0, 'doc6': 0.0, 'doc7': 0.008, 'doc8': 0.0, 'doc9': 0.0, 'doc10': 0.0}\n",
      "{'doc1': 0.0, 'doc2': 0.0, 'doc3': 0.0, 'doc4': 0.0, 'doc5': 0.0, 'doc6': 0.0, 'doc7': 0.008, 'doc8': 0.0, 'doc9': 0.0, 'doc10': 0.0}\n",
      "{'doc1': 0.0, 'doc2': 0.0, 'doc3': 0.0, 'doc4': 0.0, 'doc5': 0.0, 'doc6': 0.0, 'doc7': 0.008, 'doc8': 0.0, 'doc9': 0.0, 'doc10': 0.0}\n"
     ]
    }
   ],
   "source": [
    "likelihood_scores={}\n",
    "vocab=set()\n",
    "for doc_id in doc_dict.keys():\n",
    "    likelihood_scores[doc_id]=1\n",
    "    tokens=tokenisasi(doc_dict[doc_id])\n",
    "    vocab.update(tokens)\n",
    "    for q in tokenized_query:\n",
    "        likelihood_scores[doc_id]=likelihood_scores[doc_id]*tokens.count(q)/len(tokens)\n",
    "        print(likelihood_scores)"
   ]
  },
  {
   "cell_type": "code",
   "execution_count": 25,
   "id": "6913c8f2",
   "metadata": {
    "scrolled": true
   },
   "outputs": [
    {
     "name": "stdout",
     "output_type": "stream",
     "text": [
      "{'output', 'hadap', 'neraca', 'analisis', 'sistem', 'akademik', 'berita', 'publik', 'perintah', 'model', 'skripsi', 'kembang', 'input', 'statistik', 'jadwal', 'sentimen', 'ekonomi', 'cari', 'klasifikasi', 'informasi', 'universitas', 'layan', 'di', 'nasional'}\n"
     ]
    }
   ],
   "source": [
    "tokenized_corpus = [j for sub in [tokenisasi(doc_dict[doc_id]) for doc_id in doc_dict] for j in sub]\n",
    "vocab= set(tokenized_corpus)\n",
    "print(vocab)"
   ]
  },
  {
   "cell_type": "code",
   "execution_count": 27,
   "id": "14beb642",
   "metadata": {},
   "outputs": [
    {
     "name": "stdout",
     "output_type": "stream",
     "text": [
      "{'doc1': 25.25}\n",
      "{'doc1': 637.5625}\n",
      "{'doc1': 15460.890625}\n",
      "{'doc1': 15460.890625, 'doc2': 24.2}\n",
      "{'doc1': 15460.890625, 'doc2': 585.64}\n",
      "{'doc1': 15460.890625, 'doc2': 14172.488}\n",
      "{'doc1': 15460.890625, 'doc2': 14172.488, 'doc3': 25.25}\n",
      "{'doc1': 15460.890625, 'doc2': 14172.488, 'doc3': 612.3125}\n",
      "{'doc1': 15460.890625, 'doc2': 14172.488, 'doc3': 14848.578125}\n",
      "{'doc1': 15460.890625, 'doc2': 14172.488, 'doc3': 14848.578125, 'doc4': 25.2}\n",
      "{'doc1': 15460.890625, 'doc2': 14172.488, 'doc3': 14848.578125, 'doc4': 635.04}\n",
      "{'doc1': 15460.890625, 'doc2': 14172.488, 'doc3': 14848.578125, 'doc4': 15367.967999999999}\n",
      "{'doc1': 15460.890625, 'doc2': 14172.488, 'doc3': 14848.578125, 'doc4': 15367.967999999999, 'doc5': 25.2}\n",
      "{'doc1': 15460.890625, 'doc2': 14172.488, 'doc3': 14848.578125, 'doc4': 15367.967999999999, 'doc5': 609.8399999999999}\n",
      "{'doc1': 15460.890625, 'doc2': 14172.488, 'doc3': 14848.578125, 'doc4': 15367.967999999999, 'doc5': 14758.127999999997}\n",
      "{'doc1': 15460.890625, 'doc2': 14172.488, 'doc3': 14848.578125, 'doc4': 15367.967999999999, 'doc5': 14758.127999999997, 'doc6': 25.25}\n",
      "{'doc1': 15460.890625, 'doc2': 14172.488, 'doc3': 14848.578125, 'doc4': 15367.967999999999, 'doc5': 14758.127999999997, 'doc6': 612.3125}\n",
      "{'doc1': 15460.890625, 'doc2': 14172.488, 'doc3': 14848.578125, 'doc4': 15367.967999999999, 'doc5': 14758.127999999997, 'doc6': 14848.578125}\n",
      "{'doc1': 15460.890625, 'doc2': 14172.488, 'doc3': 14848.578125, 'doc4': 15367.967999999999, 'doc5': 14758.127999999997, 'doc6': 14848.578125, 'doc7': 25.2}\n",
      "{'doc1': 15460.890625, 'doc2': 14172.488, 'doc3': 14848.578125, 'doc4': 15367.967999999999, 'doc5': 14758.127999999997, 'doc6': 14848.578125, 'doc7': 635.04}\n",
      "{'doc1': 15460.890625, 'doc2': 14172.488, 'doc3': 14848.578125, 'doc4': 15367.967999999999, 'doc5': 14758.127999999997, 'doc6': 14848.578125, 'doc7': 16003.007999999998}\n",
      "{'doc1': 15460.890625, 'doc2': 14172.488, 'doc3': 14848.578125, 'doc4': 15367.967999999999, 'doc5': 14758.127999999997, 'doc6': 14848.578125, 'doc7': 16003.007999999998, 'doc8': 25.166666666666668}\n",
      "{'doc1': 15460.890625, 'doc2': 14172.488, 'doc3': 14848.578125, 'doc4': 15367.967999999999, 'doc5': 14758.127999999997, 'doc6': 14848.578125, 'doc7': 16003.007999999998, 'doc8': 608.1944444444445}\n",
      "{'doc1': 15460.890625, 'doc2': 14172.488, 'doc3': 14848.578125, 'doc4': 15367.967999999999, 'doc5': 14758.127999999997, 'doc6': 14848.578125, 'doc7': 16003.007999999998, 'doc8': 14698.032407407409}\n",
      "{'doc1': 15460.890625, 'doc2': 14172.488, 'doc3': 14848.578125, 'doc4': 15367.967999999999, 'doc5': 14758.127999999997, 'doc6': 14848.578125, 'doc7': 16003.007999999998, 'doc8': 14698.032407407409, 'doc9': 24.2}\n",
      "{'doc1': 15460.890625, 'doc2': 14172.488, 'doc3': 14848.578125, 'doc4': 15367.967999999999, 'doc5': 14758.127999999997, 'doc6': 14848.578125, 'doc7': 16003.007999999998, 'doc8': 14698.032407407409, 'doc9': 585.64}\n",
      "{'doc1': 15460.890625, 'doc2': 14172.488, 'doc3': 14848.578125, 'doc4': 15367.967999999999, 'doc5': 14758.127999999997, 'doc6': 14848.578125, 'doc7': 16003.007999999998, 'doc8': 14698.032407407409, 'doc9': 14172.488}\n",
      "{'doc1': 15460.890625, 'doc2': 14172.488, 'doc3': 14848.578125, 'doc4': 15367.967999999999, 'doc5': 14758.127999999997, 'doc6': 14848.578125, 'doc7': 16003.007999999998, 'doc8': 14698.032407407409, 'doc9': 14172.488, 'doc10': 24.2}\n",
      "{'doc1': 15460.890625, 'doc2': 14172.488, 'doc3': 14848.578125, 'doc4': 15367.967999999999, 'doc5': 14758.127999999997, 'doc6': 14848.578125, 'doc7': 16003.007999999998, 'doc8': 14698.032407407409, 'doc9': 14172.488, 'doc10': 585.64}\n",
      "{'doc1': 15460.890625, 'doc2': 14172.488, 'doc3': 14848.578125, 'doc4': 15367.967999999999, 'doc5': 14758.127999999997, 'doc6': 14848.578125, 'doc7': 16003.007999999998, 'doc8': 14698.032407407409, 'doc9': 14172.488, 'doc10': 14172.488}\n"
     ]
    }
   ],
   "source": [
    "a=1\n",
    "likelihood_scores={}\n",
    "for doc_id in doc_dict.keys():\n",
    "    likelihood_scores[doc_id]=1\n",
    "    tokens=tokenisasi(doc_dict[doc_id])\n",
    "    for q in tokenized_query:\n",
    "        likelihood_scores[doc_id]=likelihood_scores[doc_id]*(tokens.count(q)+a/len(tokens)+len(vocab)*a)\n",
    "        print(likelihood_scores)\n",
    "    "
   ]
  },
  {
   "cell_type": "markdown",
   "id": "65bf47ed",
   "metadata": {},
   "source": [
    "Bandingkan skor hasil perankingan untuk top 5 dokumen yang dikembalikan dengan Laplace \n",
    "Smoothing untuk query ”sistem informasi statistik” tersebut dengan hasil top 5 yang didapatkan tanpa \n",
    "smoothing.\n",
    "Selanjutnya, Anda akan menulis kode untuk menerapkan teknik Jelinek-Mercer Smoothing pada query \n",
    "likelihood model. Gunakan lamda = 0.5."
   ]
  },
  {
   "cell_type": "code",
   "execution_count": 31,
   "id": "c5601d06",
   "metadata": {},
   "outputs": [
    {
     "name": "stdout",
     "output_type": "stream",
     "text": [
      "{'doc1': 0.0003221299913194445, 'doc2': 2.3735894097222223e-05, 'doc3': 6.442599826388889e-05, 'doc4': 0.00023640950520833334, 'doc5': 5.628797743055555e-05, 'doc6': 6.442599826388889e-05, 'doc7': 0.0025059407552083337, 'doc8': 5.086263020833333e-05, 'doc9': 2.3735894097222223e-05, 'doc10': 2.3735894097222223e-05}\n"
     ]
    }
   ],
   "source": [
    "lamda=0.5\n",
    "likelihood_scores={}\n",
    "for doc_id in doc_dict.keys():\n",
    "    likelihood_scores[doc_id]=1\n",
    "    tokens=tokenisasi(doc_dict[doc_id])\n",
    "    for q in tokenized_query:\n",
    "        likelihood_scores[doc_id]=likelihood_scores[doc_id]*((lamda*tokens.count(q)/len(tokens))+((1-lamda)*tokenized_corpus.count(q)/len(tokenized_corpus)))\n",
    "\n",
    "print(likelihood_scores)"
   ]
  },
  {
   "cell_type": "markdown",
   "id": "45dace8b",
   "metadata": {},
   "source": [
    "Bandingkan skor hasil perankingan untuk top 5 dokumen yang dikembalikan dengan Jelinek-Mercer \n",
    "Smoothing untuk query ”sistem informasi statistik” tersebut dengan hasil top 5 yang didapatkan tanpa \n",
    "smoothing dan Laplace Smoothing.\n",
    "Selanjutnya, Anda akan menulis kode untuk menerapkan teknik Dirichlet Smoothing pada query \n",
    "likelihood model. Gunakan miu = 2."
   ]
  },
  {
   "cell_type": "code",
   "execution_count": 32,
   "id": "49279850",
   "metadata": {},
   "outputs": [],
   "source": [
    "miu=2\n",
    "likelihood_scores={}\n",
    "for doc_id in doc_dict.keys():\n",
    "    likelihood_scores[doc_id]=1\n",
    "    tokens=tokenisasi(doc_dict[doc_id])\n",
    "    for q in tokenized_query:\n",
    "        likelihood_scores[doc_id]=likelihood_scores[doc_id]*(tokens.count(q)+miu*tokenized_corpus.count(q)/len(tokenized_corpus))/(len(tokens)+miu)"
   ]
  },
  {
   "cell_type": "code",
   "execution_count": null,
   "id": "d6d4350a",
   "metadata": {},
   "outputs": [],
   "source": []
  }
 ],
 "metadata": {
  "kernelspec": {
   "display_name": "Python 3 (ipykernel)",
   "language": "python",
   "name": "python3"
  },
  "language_info": {
   "codemirror_mode": {
    "name": "ipython",
    "version": 3
   },
   "file_extension": ".py",
   "mimetype": "text/x-python",
   "name": "python",
   "nbconvert_exporter": "python",
   "pygments_lexer": "ipython3",
   "version": "3.9.12"
  }
 },
 "nbformat": 4,
 "nbformat_minor": 5
}
